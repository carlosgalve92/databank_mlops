{
 "cells": [
  {
   "cell_type": "code",
   "execution_count": null,
   "id": "84f411ad",
   "metadata": {},
   "outputs": [],
   "source": [
    "# Carga librerías\n",
    "import time\n",
    "import numpy as np\n",
    "from abc import ABC, abstractmethod\n",
    "import pathlib\n",
    "import yaml"
   ]
  },
  {
   "cell_type": "markdown",
   "id": "18beffec",
   "metadata": {},
   "source": [
    "## Variables"
   ]
  },
  {
   "cell_type": "markdown",
   "id": "a659b7c9",
   "metadata": {},
   "source": [
    "Las variables permiten almacenar información para luego poder utilizarlas cuando sea necesario.\n",
    "\n",
    "En python hay variables restringidas (keywords) que están rerservadas, es decir, que no se deben utilizar como nombres: ni para variables, ni para funciones, ni para cualquier otra cosa que se desee crear, ya que el significado de la palabra reservada está predefinido, y no debe cambiar.. Estas keywords son:\n",
    "\n",
    "```\n",
    "['False', 'None', 'True', 'and', 'as', 'assert', 'break', 'class', 'continue', 'def', 'del', 'elif', 'else', 'except', 'finally', 'for', 'from', 'global', 'if', 'import', 'in', 'is', 'lambda', 'nonlocal', 'not', 'or', 'pass', 'raise', 'return', 'try', 'while', 'with', 'yield']\n",
    "```\n",
    "\n",
    "El nombre de una variable en python debe cumplir las siguientes reglas:\n",
    "\n",
    "* El nombre de la variable debe estar compuesto por MAYÚSCULAS, minúsculas, dígitos, y el carácter \"_\" (guion bajo).\n",
    "    * Las mayúsculas y minúsculas se tratan de forma distinta (un poco diferente que en el mundo real - Alicia y ALICIA son el mismo nombre, pero en Python son dos nombres de variable distintos, subsecuentemente, son dos variables diferentes).\n",
    "* El nombre de la variable debe comenzar con una letra (guion bajo es considerado una letra).\n",
    "* El nombre de las variables no pueden ser igual a alguna de las palabras reservadas de Python.\n",
    "\n",
    "Con respecto las buenas prácticas, se sugiere:\n",
    "* Nombres de variables descriptivos y cortos en minúsculas\n",
    "* Para definir variables globales utilizar letras en mayúsculasrías"
   ]
  },
  {
   "cell_type": "markdown",
   "id": "30de33c4",
   "metadata": {},
   "source": [
    "### Intentando usar una keyword como variable"
   ]
  },
  {
   "cell_type": "code",
   "execution_count": null,
   "id": "4990ee69",
   "metadata": {},
   "outputs": [],
   "source": [
    "continue = 24"
   ]
  },
  {
   "cell_type": "markdown",
   "id": "22996ef4",
   "metadata": {},
   "source": [
    "## Tipos de datos (int, float, str, bool)"
   ]
  },
  {
   "cell_type": "code",
   "execution_count": null,
   "id": "def0fbd3",
   "metadata": {},
   "outputs": [],
   "source": [
    "# Ejemplo variables\n",
    "# int\n",
    "int_feature = 24\n",
    "print(\"int:\", int_feature)\n",
    "# float\n",
    "float_feature = 24.71\n",
    "print(\"float:\", float_feature)\n",
    "# str\n",
    "string_feature = \"prueba\"\n",
    "print(\"str:\", string_feature)\n",
    "# bool\n",
    "boolean_feature = True\n",
    "print(\"bool\", boolean_feature)"
   ]
  },
  {
   "cell_type": "markdown",
   "id": "546909af",
   "metadata": {},
   "source": [
    "### Entendiendo float number y problemas de redondeo"
   ]
  },
  {
   "cell_type": "markdown",
   "id": "7af5946b",
   "metadata": {},
   "source": [
    "Los numeros con precisión float 32 bit, quiere decir que se almacena de la siguiente manera:\n",
    "$$Number = S (sign \\ bit) \\times M (Mantissa) \\times b^{E (Exponent) -e}$$\n",
    "donde:\n",
    "\n",
    "* Para 32 bits:\n",
    "    * S: 1 bit\n",
    "    * M: 23 bits\n",
    "    * E: 8 bits (0-255)\n",
    "    * e = 127\n",
    "\n",
    "* Para 64 bits:\n",
    "    * S: 1 bit\n",
    "    * M: 52 bits\n",
    "    * E: 11 bits (0-2047)\n",
    "    * e = 1023\n",
    "\n",
    "Ejemplo:\n",
    "1/5 = 0.2 (al pasarlo a binario tiene infinitos decimales)\n",
    "\n",
    "En binario es 0.00110011... que se almacena como: 0 (S) 10011001100110011001100 (M) y 01111100 (E), que haciendo el calculo:\n",
    "\n",
    "$$(1 + 2^{-1} + 2^{-4} + 2^{-5} + 2^{-8} + 2^{-9} + ...) \\cdot 2^{-3} \\approx 0.2$$"
   ]
  },
  {
   "cell_type": "code",
   "execution_count": null,
   "id": "f51ad372",
   "metadata": {},
   "outputs": [],
   "source": [
    "# Ejemplo de Float number\n",
    "number_ie = 0.2\n",
    "print(f\"{number_ie: .20}\")"
   ]
  },
  {
   "cell_type": "code",
   "execution_count": null,
   "id": "3cd6b1f6",
   "metadata": {},
   "outputs": [],
   "source": [
    "# Error de redondeo\n",
    "x = [1000.0, 0.0000000000000111, 0.0000000000000222, -1000.0]\n",
    "number_ie = x[0]\n",
    "print(f\"{number_ie: .30}\")\n",
    "number_ie += x[1]\n",
    "print(f\"{number_ie: .30}\")\n",
    "number_ie += x[2]\n",
    "print(f\"{number_ie: .30}\")\n",
    "number_ie += x[3]\n",
    "print(f\"{number_ie: .30}\")"
   ]
  },
  {
   "cell_type": "markdown",
   "id": "78441912",
   "metadata": {},
   "source": [
    "$$f^{n} = f^{n-1} \\cdot f$$\n",
    "\n",
    "$$f^{n} = f^{n-2} - f^{n-1}$$"
   ]
  },
  {
   "cell_type": "code",
   "execution_count": null,
   "id": "928f60ee",
   "metadata": {},
   "outputs": [],
   "source": [
    "# Powers of the “Golden Mean”\n",
    "f_1 = [0 for i in range(100)]\n",
    "f_2 = [0 for i in range(100)]\n",
    "f_1[0:1] = [1, 0.61803398]\n",
    "f_2[0:1] = [1, 0.61803398]\n",
    "for i in range(2,22):\n",
    "    f_1[i] = f_1[i-2] - f_1[i-1]\n",
    "    f_2[i] = f_2[i-1] * f_2[1]\n",
    "    print(f\"{i}\\t{f_1[i]: .15f}\\t{f_2[i]: .15f}\")"
   ]
  },
  {
   "cell_type": "markdown",
   "id": "4b44374c",
   "metadata": {},
   "source": [
    "### Algunos métodos str"
   ]
  },
  {
   "cell_type": "code",
   "execution_count": null,
   "id": "a5d2d1fa",
   "metadata": {},
   "outputs": [],
   "source": [
    "str_ie = \"carlos_galve\"\n",
    "print(\"String origen:\", str_ie)\n",
    "str_ie = str_ie.replace(\"_\", \" \")\n",
    "print(\"Se reemplaza barra baja por espacio en blanco:\", str_ie)\n",
    "str_ie = str_ie.split(\" \")\n",
    "print(\"Se separa el string por caracter espacio en blanco:\", str_ie)\n",
    "str_ie = \" \".join([s.capitalize() for s in str_ie])\n",
    "print(\"Se juntan string de las lista por espacio, donde antes de juntarlos se pone en mayuscula primera letra del string:\", str_ie)\n",
    "str_ie = str_ie.lower()\n",
    "print(\"Se convierte string en minúsculas:\", str_ie)\n",
    "str_ie = str_ie.upper()\n",
    "print(\"Se convierte string en mayúsculas:\", str_ie)\n",
    "str_ie = \" \" * 8 + str_ie\n",
    "print(\"Se añaden 8 espacios en blanco a la izquierda:\", str_ie)\n",
    "str_ie = str_ie.strip()\n",
    "print(\"Se eliminan espacios en blanco al principio y al final:\", str_ie)\n",
    "str_ie = str_ie.rjust(20, \"0\")\n",
    "print(\"Se complementa el string hasta alcanzar una longitud de 20 añadiendo 0 a la izquierda:\", str_ie)\n",
    "str_ie = str_ie.ljust(30, \"0\")\n",
    "print(\"Se complementa el string hasta alcanzar una longitud de 30 añadiendo 0 a la derecha:\", str_ie)\n",
    "str_ie = str_ie.replace(\"0\", \"\")\n",
    "print(\"Se reemplazan 0 por vacío:\", str_ie)"
   ]
  },
  {
   "cell_type": "code",
   "execution_count": null,
   "id": "99788274",
   "metadata": {},
   "outputs": [],
   "source": [
    "dict_tablas = {\n",
    "    \"TB_ATRASOS\": [\"PERIODO\", \"COD_OPERACION\", \"ATRASOS\"],\n",
    "    \"TB_DEMOGRAFICO\": [\"PERIODO\", \"ID_CLIENTE\", \"REGION\"],\n",
    "}\n",
    "query_atrasos = (fr\"\"\"\n",
    "    select {\", \".join(dict_tablas[\"TB_ATRASOS\"])}\n",
    "    from TB_DEMOGRAFICO\n",
    "\"\"\")\n",
    "print(query_atrasos)"
   ]
  },
  {
   "cell_type": "markdown",
   "id": "b8664f86",
   "metadata": {},
   "source": [
    "### Opciones para comportamientos del str"
   ]
  },
  {
   "cell_type": "code",
   "execution_count": null,
   "id": "dee717b7",
   "metadata": {},
   "outputs": [],
   "source": [
    "# b (convierte la cadena en formato de bytes)\n",
    "str_ie = \"Hola Mundo\"\n",
    "print(\"sin b:\", list(str_ie))\n",
    "str_ie = b\"Hola Mundo\"\n",
    "print(\"con b:\", list(str_ie))\n",
    "\n",
    "print()\n",
    "# r (cadena sin escape)\n",
    "str_ie = \"Salto de linea \\n Otra linea\"\n",
    "print(\"sin r:\", str_ie)\n",
    "str_ie = r\"Salto de linea \\n Otra linea\"\n",
    "print(\"con r:\", str_ie)\n",
    "\n",
    "print()\n",
    "# f (permite interpolaciones de variables en la cadena)\n",
    "float_ie = 14322.394856\n",
    "str_ie = \"Ejemplo:\" + str(float_ie)\n",
    "print(\"sin f:\", str_ie)\n",
    "str_ie = f\"Ejemplo con separador de miles y decimales: {float_ie: ,.4f}\"\n",
    "print(\"con f:\", str_ie)\n",
    "str_ie = f\"Ejemplo de porcentaje: {0.2345652423: .4%}\"\n",
    "print(\"con f:\", str_ie)"
   ]
  },
  {
   "cell_type": "markdown",
   "id": "0340a07e",
   "metadata": {},
   "source": [
    "## Operadores"
   ]
  },
  {
   "cell_type": "markdown",
   "id": "229993a1",
   "metadata": {},
   "source": [
    "Operadores aritmeticos con prioridad:\n",
    "* $**$ (potencia)\n",
    "* $+$ (positivo); $-$ (negativo) --> a nivel de signo, situados a la derecha de las potencias\n",
    "* $*$ (multiplicación); $/$ (división); $//$ (división entera); $\\%$ (modulo)\n",
    "* $+$ (suma); $-$ (resta)\n",
    "\n",
    "Operadores lógicos:\n",
    "* $==$ (igual); $>=$ (mayor o igual); $<=$ (menor o igual); $<$ (menor); $>$ (mayor); $!=$ (distinto);\n",
    "* $and$ (y); $or$ (o); $not$ (negación);\n",
    "* $\\&$ (y a nivel de bits); $\\mid$ (o a nivel de bits); $\\sim$ (negación a nivel de bits); $\\hat{ }$ (xor); $<<$; $>>$"
   ]
  },
  {
   "cell_type": "code",
   "execution_count": null,
   "id": "c21a936b",
   "metadata": {},
   "outputs": [],
   "source": [
    "x = 2\n",
    "# x = x + (2 * 4 + 2 ** -3 - 4 // 3 + 7 % 5)\n",
    "x += 2 * 4 + 2 ** -3 - 4 // 3 + 7 % 5\n",
    "print(x)\n",
    "print(2 + (2 * 4) + (2 ** (-3)) - (4 // 3) + (7 % 5))"
   ]
  },
  {
   "cell_type": "code",
   "execution_count": null,
   "id": "fe1a37c0",
   "metadata": {},
   "outputs": [],
   "source": [
    "print(\"\"\" \"1\" <= \"a\" \"\"\", \"1\" <= \"a\")\n",
    "print(\"\"\" \"1\" == 1 \"\"\", \"1\" == 1)\n",
    "print(\"\"\" 1. == 1 \"\"\", 1. == 1)\n",
    "print(\"\"\" 2.9 < 8 \"\"\", 2.9 < 8)"
   ]
  },
  {
   "cell_type": "code",
   "execution_count": null,
   "id": "d449ac63",
   "metadata": {},
   "outputs": [],
   "source": [
    "# operadpr and\n",
    "print(\"True and True:\", True and True)\n",
    "print(\"True and False:\", True and False)\n",
    "print(\"False and False:\", False and False)\n",
    "\n",
    "# operador or\n",
    "print(\"True or True:\", True or True)\n",
    "print(\"True or False:\", True or False)\n",
    "print(\"False or False:\", False or False)\n",
    "\n",
    "# operador not\n",
    "print(\"not True or True:\", not (True or True))\n",
    "print(\"not True or False:\", not (False or True))\n",
    "print(\"not False or False:\", not (False or False))"
   ]
  },
  {
   "cell_type": "code",
   "execution_count": null,
   "id": "e98a26f3",
   "metadata": {},
   "outputs": [],
   "source": [
    "# ejemplo & a nivel de bits\n",
    "print(f\"{20: b}\")\n",
    "print(f\"{22: b}\")\n",
    "print(f\"{(20 & 22)}\")\n",
    "print(f\"{(20 & 22): b}\")"
   ]
  },
  {
   "cell_type": "markdown",
   "id": "e7c3ad83",
   "metadata": {},
   "source": [
    "## Estructura de datos (colecciones: dict, list, set, tuple)"
   ]
  },
  {
   "cell_type": "code",
   "execution_count": null,
   "id": "a065c101",
   "metadata": {},
   "outputs": [],
   "source": [
    "# Colección de pares clave valor, que mantiene orden desde (Python 3.7) y\n",
    "# y de rápido acceso (dict)\n",
    "dict_ie = {\"key2\": \"value2\", \"key\": \"value\"}\n",
    "print(dict_ie)\n",
    "# Colección que mantiene orden y mutable (list)\n",
    "list_ie = [\"a\", 2, True]\n",
    "print(list_ie)\n",
    "# Colección de elementos únicos que no mantiene el orden y mutable (set) \n",
    "set_ie = {2, \"2\", 1, 1}\n",
    "print(set_ie)\n",
    "# Colección que mantiene orden e inmutable (tuple)\n",
    "tuple_ie = (\"2\", 2, 1, 1)\n",
    "print(tuple_ie)"
   ]
  },
  {
   "cell_type": "code",
   "execution_count": null,
   "id": "09a0cb2a",
   "metadata": {},
   "outputs": [],
   "source": [
    "# Rápido acceso diccionario\n",
    "list1 = [i for i in range(0,int(1e8))]\n",
    "list2 = [i for i in range(int(1e8), int(2e8))]\n",
    "dict3 = dict(zip(list1, list2))\n",
    "\n",
    "start_time = time.process_time()\n",
    "print(56077774 in dict3)\n",
    "print(time.process_time() - start_time)\n",
    "\n",
    "start_time = time.process_time()\n",
    "print(56077774 in list1)\n",
    "print(time.process_time() - start_time)"
   ]
  },
  {
   "cell_type": "markdown",
   "id": "e970d95b",
   "metadata": {},
   "source": [
    "### Métodos más comunes de listas"
   ]
  },
  {
   "cell_type": "code",
   "execution_count": null,
   "id": "a8f33d88",
   "metadata": {},
   "outputs": [],
   "source": [
    "list_ie = [\"Carlos\",]\n",
    "# Se mira longitud de lista\n",
    "print(\"Longitud de lista:\", len(list_ie))\n",
    "# Se añade un elemento\n",
    "list_ie.append(\"Galve\")\n",
    "print(\"Lista con un elemento más:\", list_ie)\n",
    "# Se elimina un elemento\n",
    "list_ie.remove(\"Galve\")\n",
    "print(\"Lista con un elemento menos:\", list_ie)\n",
    "# Ver si un elemento está dentro de una lista\n",
    "print(\"Está Carlos dentro de la lista:\", \"Carlos\" in list_ie)"
   ]
  },
  {
   "cell_type": "markdown",
   "id": "ea18e374",
   "metadata": {},
   "source": [
    "### Operaciones comunes sets"
   ]
  },
  {
   "cell_type": "code",
   "execution_count": null,
   "id": "8cea4580",
   "metadata": {},
   "outputs": [],
   "source": [
    "set_ie1 = {1, 2, \"a\"}\n",
    "set_ie2 = {\"b\",\"a\", 4, 2, 1}\n",
    "\n",
    "# Union\n",
    "print(\"Unión:\", set_ie1 | set_ie2)\n",
    "# Intersección\n",
    "print(\"Intersección:\", set_ie1 & set_ie2)\n",
    "# Diferencias\n",
    "print(\"Diferencias:\", set_ie1 ^ set_ie2)"
   ]
  },
  {
   "cell_type": "markdown",
   "id": "725bd03d",
   "metadata": {},
   "source": [
    "### Métodos más comunes de diccionarios"
   ]
  },
  {
   "cell_type": "code",
   "execution_count": null,
   "id": "09bce8ed",
   "metadata": {},
   "outputs": [],
   "source": [
    "# Se genera diccionario\n",
    "dict_ie = {\"key1\": 1, \"key2\": \"a\", \"key3\": 205.341345}\n",
    "\n",
    "# Obtener claves\n",
    "print(\"Obtener claves:\", dict_ie.keys())\n",
    "\n",
    "# Obtener valores\n",
    "print(\"Obtener valores:\", dict_ie.values())\n",
    "\n",
    "# Obtener items (pares clave-valor)\n",
    "print(\"Obtener items\", dict_ie.items())\n",
    "\n",
    "# Acceder a un valor por clave\n",
    "print(\"dict_ie[<clave>]:\", dict_ie[\"key3\"])\n",
    "print(\"médodo get:\", dict_ie.get(\"key4\", \"No existe clave key4\"))\n",
    "\n",
    "# Eliminar clave\n",
    "dict_ie.pop(\"key3\")\n",
    "print(\"Se elimina una clave (con su valor correspondiente):\", dict_ie)\n",
    "\n",
    "# Acceder a un elemento para modificarlo o agregarlo\n",
    "dict_ie[\"key4\"] = \"nuevo_valor\"\n",
    "print(\"Se agrega clave key4:\", dict_ie)\n",
    "\n",
    "# Generar diccionario a partir de dos colecciones\n",
    "dict_ie = dict(zip(list(dict_ie.keys()), list(dict_ie.values())))\n",
    "print(\"Creación de un diccionario a partir de dos listas:\", dict_ie)"
   ]
  },
  {
   "cell_type": "markdown",
   "id": "8a30d37c",
   "metadata": {},
   "source": [
    "## Bucles y condicionales"
   ]
  },
  {
   "cell_type": "code",
   "execution_count": null,
   "id": "d14cff91",
   "metadata": {},
   "outputs": [],
   "source": [
    "# Condicionales\n",
    "x = 2\n",
    "\n",
    "if x < 0:\n",
    "    print(\"x es negativo\")\n",
    "elif x == 0:\n",
    "    print(\"x es cero\")\n",
    "else:\n",
    "    print(\"x es positivo\", end=\" \")\n",
    "    if x % 2 == 0:\n",
    "        print(\"y además x es un número par\")\n",
    "    else:\n",
    "        print(\"y además x es un número impar\")"
   ]
  },
  {
   "cell_type": "code",
   "execution_count": null,
   "id": "507daf2d",
   "metadata": {},
   "outputs": [],
   "source": [
    "# Loops\n",
    "print(\"bucle for\")\n",
    "for i in range(0, 101, 25):\n",
    "    if i % 10 == 0:\n",
    "        print(i)\n",
    "\n",
    "print(\"\\nbucle while\")\n",
    "count = 0\n",
    "while (count < 5):\n",
    "    print(count)\n",
    "    count += 1"
   ]
  },
  {
   "cell_type": "code",
   "execution_count": null,
   "id": "ba78772b",
   "metadata": {},
   "outputs": [],
   "source": [
    "# controles\n",
    "print(\"bucle for\")\n",
    "for i in range(0, 101, 25):\n",
    "    if i % 10 == 0:\n",
    "        pass\n",
    "    elif i % 75 == 0:\n",
    "        pass\n",
    "    else:\n",
    "        continue   \n",
    "    print(i)\n",
    "else:\n",
    "    print(\"El 75 se pintó.\")\n",
    "\n",
    "print(\"\\nbucle while\")\n",
    "count = 0\n",
    "while (count < 5):\n",
    "    print(count)\n",
    "    count += 1\n",
    "    break\n",
    "else:\n",
    "    print(\"Se para en el 0\") # no se pinta porque el break rompe el bucle"
   ]
  },
  {
   "cell_type": "code",
   "execution_count": null,
   "id": "b96bba53",
   "metadata": {},
   "outputs": [],
   "source": [
    "# list comprehesion\n",
    "list_ie = [i if i in [\"a\", \"e\", \"i\", \"o\", \"u\"] else i*2 for i in \"Carlos\"]\n",
    "print(\"list:\", list_ie)\n",
    "\n",
    "# dict comprehesion\n",
    "dict_ie = {i.upper(): i.lower() for i in \"Carlos\"}\n",
    "print(\"dict:\", dict_ie)"
   ]
  },
  {
   "cell_type": "markdown",
   "id": "4249bad2",
   "metadata": {},
   "source": [
    "### Iteradores versus generadores"
   ]
  },
  {
   "cell_type": "code",
   "execution_count": null,
   "id": "5c9e9742",
   "metadata": {},
   "outputs": [],
   "source": [
    "# iterators\n",
    "list_ie = list(range(1,5))\n",
    "print(list_ie)\n",
    "iter_ie = iter(list_ie)\n",
    "print(iter_ie)\n",
    "\n",
    "for i in iter_ie:\n",
    "    print(i)"
   ]
  },
  {
   "cell_type": "code",
   "execution_count": null,
   "id": "e04e235f",
   "metadata": {},
   "outputs": [],
   "source": [
    "# generadores (eficientes a nivel de memoria (lazy programming))\n",
    "def generador_lista():\n",
    "    for x in range(1, 5):\n",
    "        yield x\n",
    "generator_ie = generador_lista()\n",
    "print(generator_ie)\n",
    "\n",
    "for i in generator_ie:\n",
    "    print(i)\n",
    "    break\n",
    "\n",
    "generator_ie.__next__()"
   ]
  },
  {
   "cell_type": "markdown",
   "id": "01180513",
   "metadata": {},
   "source": [
    "### Vectorización"
   ]
  },
  {
   "cell_type": "code",
   "execution_count": null,
   "id": "18fbdb12",
   "metadata": {},
   "outputs": [],
   "source": [
    "arr_ie = np.ones((int(1e8),))\n",
    "print(arr_ie)\n",
    "\n",
    "start_time = time.process_time()\n",
    "for i in range(len(arr_ie)):\n",
    "    arr_ie[i] *= 2\n",
    "\n",
    "print(\"Tiempo (segundos):\", time.process_time() - start_time)"
   ]
  },
  {
   "cell_type": "code",
   "execution_count": null,
   "id": "eea4edae",
   "metadata": {},
   "outputs": [],
   "source": [
    "arr_ie = np.ones((int(1e8),))\n",
    "print(arr_ie)\n",
    "\n",
    "start_time = time.process_time()\n",
    "arr_ie *= 2\n",
    "print(\"Tiempo (segundos):\", time.process_time() - start_time)"
   ]
  },
  {
   "cell_type": "markdown",
   "id": "0e72552a",
   "metadata": {},
   "source": [
    "## Excepciones"
   ]
  },
  {
   "cell_type": "markdown",
   "id": "b2136046",
   "metadata": {},
   "source": [
    "El manejo de excepciones te permiten manejar los errores que se producen durante la ejecución para tomar medidas correctivas sin que se pare la ejecución este.\n",
    "\n",
    "Dentro de las excepciones de Python, se inlcuyen:\n",
    "* Division entre 0 (ZeroDivisionError)\n",
    "* Fichero no encontrado (FileNotFoundError)\n",
    "* Valor invalido (ValueError)\n",
    "* Tipo invalido (TypeError)\n",
    "* Generalmente cuando una variable no está definida (NameError)"
   ]
  },
  {
   "cell_type": "code",
   "execution_count": null,
   "id": "22434473",
   "metadata": {},
   "outputs": [],
   "source": [
    "a = b"
   ]
  },
  {
   "cell_type": "code",
   "execution_count": null,
   "id": "667fb549",
   "metadata": {},
   "outputs": [],
   "source": [
    "try:\n",
    "    a = b\n",
    "except NameError as e:\n",
    "    print(e)"
   ]
  },
  {
   "cell_type": "code",
   "execution_count": null,
   "id": "076be661",
   "metadata": {},
   "outputs": [],
   "source": [
    "try:\n",
    "    1 / 0\n",
    "except NameError as e:\n",
    "    print(e)\n",
    "except ZeroDivisionError as e:\n",
    "    print(e)"
   ]
  },
  {
   "cell_type": "code",
   "execution_count": null,
   "id": "9696d666",
   "metadata": {},
   "outputs": [],
   "source": [
    "try:\n",
    "    1 < \"1\"\n",
    "except NameError as e:\n",
    "    print(e)\n",
    "except ZeroDivisionError as e:\n",
    "    print(e)\n",
    "except Exception as e:\n",
    "    print(\"Generico\")\n",
    "    print(e)"
   ]
  },
  {
   "cell_type": "code",
   "execution_count": null,
   "id": "dcb72b4d",
   "metadata": {},
   "outputs": [],
   "source": [
    "try:\n",
    "    int_ie = int(input(\"Introduce un numero entero: \"))\n",
    "except NameError as e:\n",
    "    print(e)\n",
    "except ZeroDivisionError as e:\n",
    "    print(e)\n",
    "except Exception as e:\n",
    "    print(\"Generico\")\n",
    "    print(e)\n",
    "else:\n",
    "    print(f\"El numero introducido es: {int_ie}\")\n",
    "finally:\n",
    "    print(\"Ejecución terminada.\")"
   ]
  },
  {
   "cell_type": "markdown",
   "id": "04339cdb",
   "metadata": {},
   "source": [
    "## Funciones"
   ]
  },
  {
   "cell_type": "markdown",
   "id": "9ca71102",
   "metadata": {},
   "source": [
    "Una función es un bloque de código que realiza una tarea específica que se define usando la keyword de **def**. Las funciones ayuadan a tener un código más organizado, al poder reutilizar código y facilitar la lectura."
   ]
  },
  {
   "cell_type": "code",
   "execution_count": null,
   "id": "16fbcde6",
   "metadata": {},
   "outputs": [],
   "source": [
    "# El *args (argumentos posicionales) y **kargs (argumentos clave-valor)\n",
    "def function_name(argumento1: float, argumento2: float=2.30371, *args, **kargs) -> float:\n",
    "    \"\"\"\n",
    "    Descripción de lo que hace la funcion\n",
    "\n",
    "    Inputs:\n",
    "        argumento1(float): descripción argumento1\n",
    "        argumento2(float): descripción argumento2\n",
    "\n",
    "    Output:\n",
    "        float: Descripción del ouput\n",
    "    \"\"\"\n",
    "    print(\"args:\", args)\n",
    "    print(\"kargs:\", kargs)\n",
    "    # Se multiplican numeros\n",
    "    return argumento1 * argumento2\n",
    "\n",
    "print(\"Usando argumento2 por defecto:\", function_name(212.34))\n",
    "print()\n",
    "print(\"Sin usar argumento2 por defecto:\", function_name(212.34, 1.5))\n",
    "print()\n",
    "print(\"Sin usar argumento2 por defecto:\", function_name(212.34, 1.5, 1.2, 2, argumento3=\"prueba\", argumento4=\"prueba2\"))"
   ]
  },
  {
   "cell_type": "code",
   "execution_count": null,
   "id": "620afb46",
   "metadata": {},
   "outputs": [],
   "source": [
    "# Variables dentro función\n",
    "x = 2\n",
    "def suma(y, z):\n",
    "    \"\"\"\n",
    "    Suma z e y\n",
    "    \"\"\"\n",
    "    #global x \n",
    "    x = y + z\n",
    "    return None\n",
    "suma(29, 1921)\n",
    "print(x)\n",
    "\n",
    "def suma(y, z):\n",
    "    \"\"\"\n",
    "    Suma z e y modificando el valor de x global\n",
    "    \"\"\"\n",
    "    global x \n",
    "    x = y + z\n",
    "    return None\n",
    "suma(29, 1921)\n",
    "print(x)"
   ]
  },
  {
   "cell_type": "markdown",
   "id": "0c8ceb07",
   "metadata": {},
   "source": [
    "### Recursividad"
   ]
  },
  {
   "cell_type": "code",
   "execution_count": null,
   "id": "c5f85e8f",
   "metadata": {},
   "outputs": [],
   "source": [
    "def fibonacci(n: int) -> int:\n",
    "    \"\"\"\n",
    "    Calcula el n-ésimo de la serie de Fibonacci de forma recursiva.\n",
    "    La serie de Fibonacci es una secuencia en la que cada número es la suma de los dos anteriores:\n",
    "    0, 1, 1, 2, 3, 5, 8, 13, 21, ...\n",
    "\n",
    "    Inputs:\n",
    "        n (int): Posición en la serie de Fibonacci (debe ser un número positivo mayor de 0)\n",
    "\n",
    "    Outputs:\n",
    "        int: el valor del termino en la posición n.\n",
    "    \"\"\"\n",
    "    if n <= 0:\n",
    "        raise ValueError(\"El número debe ser mayor o igual a 1\")\n",
    "    elif (n == 1) or (n == 2):\n",
    "        return 1\n",
    "    else:\n",
    "        return fibonacci(n-1) + fibonacci(n-2)\n",
    "\n",
    "fibonacci(7)"
   ]
  },
  {
   "cell_type": "markdown",
   "id": "136cd804",
   "metadata": {},
   "source": [
    "### Funciones lambda, map, filter"
   ]
  },
  {
   "cell_type": "markdown",
   "id": "dbb2d3f3",
   "metadata": {},
   "source": [
    "* Las **funciones lambda** en python son pequeñas funciones anónimas que se definen usando la keyword de **lambda**\n",
    "* Las **funciones map** en python aplica una función a todos los elementos de un iterable devolviendo un objeto map (iterador).\n",
    "* Las **funciones filter** en python devuelve un iterador de elementos de un iterable para los que la función devuelve True"
   ]
  },
  {
   "cell_type": "code",
   "execution_count": null,
   "id": "0b4ed662",
   "metadata": {},
   "outputs": [],
   "source": [
    "dict_ie = {\"spain\": 1., \"peru\": 2., \"irland\": 3., \"eeuu\": 4.}\n",
    "list_ie = [\"spain\", \"irland\", \"spain\", \"irland\", \"peru\", \"spain\", \"peru\", \"peru\", \"spain\", \"spain\", \"eeuu\", \"france\"]"
   ]
  },
  {
   "cell_type": "code",
   "execution_count": null,
   "id": "5744532c",
   "metadata": {},
   "outputs": [],
   "source": [
    "map_ie = map(lambda k: dict_ie.get(k, 99999), list_ie)\n",
    "print(\"Map iterable:\", map_ie)\n",
    "map_ie = list(map_ie)\n",
    "print(\"Map list:\",map_ie)"
   ]
  },
  {
   "cell_type": "code",
   "execution_count": null,
   "id": "d2a38535",
   "metadata": {},
   "outputs": [],
   "source": [
    "filter_ie = filter(lambda x: x < 3, map_ie)\n",
    "print(\"Filter iterable:\", filter_ie)\n",
    "filter_ie = list(filter_ie)\n",
    "print(\"Filter list:\", filter_ie)"
   ]
  },
  {
   "cell_type": "markdown",
   "id": "6d0d5a20",
   "metadata": {},
   "source": [
    "## Programación Orientada a Objetos (OOP)"
   ]
  },
  {
   "cell_type": "markdown",
   "id": "02ec6d1d",
   "metadata": {},
   "source": [
    "**Clase**: Una clase es una plantilla para crear objetos. Las clases contienen la definición de los objetos con los que trabajamos y definen sus propiedades (atributos) además de especificar las modificaciones que se pueden hacer a esos objetos (métodos).\n",
    "\n",
    "Cada vez que construimos un objeto de una clase, estamos creando una instancia de dicha clase.\n",
    "\n",
    "**Objeto**. Es la instancia de una clase y consta de:\n",
    "\n",
    " * **Estado**. Representado por los atributos del objeto, que reflejan sus propiedades\n",
    " * **Comportamiento**. Representado por los métodos del objeto, que reflejan su resupuesta a otros objetos\n",
    " * **Identidad**. Cada objeto tiene un nombre único que le permite interactuar con otros objetos\n",
    "Las clases son fundamentales para lenguajes de programación orientada a objetos, como por ejemplo Python.\n",
    "\n",
    "En definitiva, una clase es una plantilla y una instancia es una copia de la clase con valores determinados: un objeto.\n",
    "\n",
    "Los **4 pilares fundamentales** de la programación orientada a objetcos son:\n",
    " * **Herencia**: es un concepto fundamental en la Programación Orientada a Objetos (POO) que permite a una clase heredar atributos y métodos de otra clase.\n",
    " * **Polimorfismo**: es un concepto básico de la programación orientada a objetos (POO) que permite tratar objetos de clases diferentes como objetos de una superclase común. Permite realizar una misma acción de diferentes formas. El polimorfismo se consigue normalmente mediante la redefinición de métodos e interfaces.\n",
    " * **Encapsulación**: es el concepto de envolver datos (variables) y métodos (funciones) como una sola unidad. Restringe el acceso directo a algunos de los componentes del objeto, lo que constituye un medio de evitar interferencias accidentales y usos indebidos de los datos.\n",
    " * **Abstracción**: es el concepto de ocultar los complejos detalles de implementación y mostrar sólo las características necesarias de un objeto. Esto ayuda a reducir la complejidad y el esfuerzo de programación."
   ]
  },
  {
   "cell_type": "code",
   "execution_count": null,
   "id": "de0da2d7",
   "metadata": {},
   "outputs": [],
   "source": [
    "# Clase\n",
    "class BankAccount(ABC): # Herencia\n",
    "    def __init__(self, owner, balance): #constructor de la clase\n",
    "        self.__owner = owner # atributo (private variable)\n",
    "        self._balance = balance # atributo (protected variable)\n",
    "        self.fee_transaction = 2.50 # atributo (public variable)\n",
    "\n",
    "    def deposit(self, amount):\n",
    "        self._balance += amount\n",
    "        self._balance -= self.fee_transaction\n",
    "        print(f\"{amount} es depositado. El nuevo balance es {self._balance}\")\n",
    "\n",
    "    @abstractmethod\n",
    "    def withdraw(self,amount):\n",
    "        pass\n",
    "\n",
    "    @property\n",
    "    def change(self):\n",
    "        return 3.98\n",
    "\n",
    "    def get_owner(self): # Encapsulamiento para obtener el valor del balance\n",
    "        return self.__owner\n",
    "\n",
    "\n",
    "class PrizeAccount(BankAccount): # Herencia\n",
    "    def __init__(self, owner, balance): # constructor de la clase\n",
    "        super().__init__(owner, balance) # super ayuda a heredar el constructor\n",
    "\n",
    "    def withdraw(self,amount): # polimorfismo\n",
    "        if (amount + self.fee_transaction) > self._balance:\n",
    "            print(\"Insufficient funds!\")\n",
    "        else:\n",
    "            self._balance -= (amount + self.fee_transaction) \n",
    "            print(f\"{amount} es sacado. El nuevo balance es {self._balance}\")\n",
    "\n",
    "\n",
    "class SalaryAccount(BankAccount): # Herencia\n",
    "    def __init__(self, owner, balance): # constructor de la clase\n",
    "        super().__init__(owner, balance) # super ayuda a heredar el constructor\n",
    "        #print(\"La variable privada no se puede acceder desde la subclase\", self.__owner)\n",
    "        self.fee_transaction = 0\n",
    "\n",
    "    def withdraw(self,amount): # polimorfismo\n",
    "        if (amount + self.fee_transaction) > self._balance:\n",
    "            print(\"¡Fondos insuficientes!\")\n",
    "        else:\n",
    "            self._balance -= (amount + self.fee_transaction) \n",
    "            print(f\"{amount} es sacado. El nuevo balance es {self._balance}\")"
   ]
  },
  {
   "cell_type": "code",
   "execution_count": null,
   "id": "ed2d94d2",
   "metadata": {},
   "outputs": [],
   "source": [
    "cuenta1 = PrizeAccount(\"Carlos\", 1000)\n",
    "print(cuenta1.__dict__)\n",
    "cuenta1.deposit(500)\n",
    "cuenta1.deposit(100)\n",
    "cuenta1.withdraw(1000)\n",
    "print(\"change:\", cuenta1.change)\n",
    "print(cuenta1.__dict__)"
   ]
  },
  {
   "cell_type": "code",
   "execution_count": null,
   "id": "1756e0fb",
   "metadata": {},
   "outputs": [],
   "source": [
    "cuenta1 = SalaryAccount(\"Carlos\", 1000)\n",
    "print(cuenta1.__dict__)\n",
    "cuenta1.deposit(500)\n",
    "cuenta1.deposit(100)\n",
    "cuenta1.withdraw(1000)\n",
    "print(\"change:\", cuenta1.change)\n",
    "print(cuenta1.__dict__)"
   ]
  },
  {
   "cell_type": "markdown",
   "id": "45480c66",
   "metadata": {},
   "source": [
    "## Decorators"
   ]
  },
  {
   "cell_type": "markdown",
   "id": "bbff78a3",
   "metadata": {},
   "source": [
    "Es una herramienta dentro de Python que permite añadir funcionalidad a una función sin modificar el codigo actual."
   ]
  },
  {
   "cell_type": "code",
   "execution_count": null,
   "id": "41f622e0",
   "metadata": {},
   "outputs": [],
   "source": [
    "def val_risk(min_score: int, max_debt_rat: float):\n",
    "    \"\"\"\n",
    "    Valida el riesgo de credito antes de conceder préstamo\n",
    "\n",
    "    Inputs:\n",
    "        min_score (int): minimo score requerido\n",
    "        max_debt_rat (float): maximo ratio deuda/ingreso permitido\n",
    "\n",
    "    Output:\n",
    "        function: función decorada que aplica la validación al riesgo\n",
    "    \"\"\"\n",
    "    def decorator(func):\n",
    "        def wrapper(customer: str, amount: float, credit_score: int, monthly_income: float, monthly_debt: float):\n",
    "            \"\"\"\n",
    "            Función envolvente que realiza la validación de riesgo crediticio.\n",
    "\n",
    "            Args:\n",
    "                customer (str): Nombre del cliente.\n",
    "                amount (float): Monto del préstamo solicitado.\n",
    "                credit_score (int): Puntaje de crédito del cliente.\n",
    "                monthly_income (float): Ingreso mensual del cliente.\n",
    "                monthly_debt (float): Deuda mensual del cliente.\n",
    "\n",
    "            Returns:\n",
    "                Any: Retorna el resultado de func si las condiciones se cumplen, de lo contrario None\n",
    "            \"\"\"\n",
    "            debt_ratio = monthly_debt / monthly_income  # Calculate debt-to-income ratio\n",
    "\n",
    "            if credit_score < min_score:\n",
    "                print(f\"Préstamo rechazado: Score {credit_score} < mínimo {min_score}\")\n",
    "                return None  \n",
    "            \n",
    "            if debt_ratio > max_debt_rat:\n",
    "                print(f\"Préstamo rechazado: Ratio deuda/ingreso {debt_ratio:.2f} > máximo permitido {max_debt_rat:.2f}\")\n",
    "                return None  \n",
    "            \n",
    "            print(f\"Préstamo aprobado para {customer} - Monto: ${amount}\")\n",
    "            return func(customer, amount, credit_score, monthly_income, monthly_debt)\n",
    "        \n",
    "        return wrapper\n",
    "    return decorator"
   ]
  },
  {
   "cell_type": "code",
   "execution_count": null,
   "id": "0ad8bdd7",
   "metadata": {},
   "outputs": [],
   "source": [
    "@val_risk(min_score=650, max_debt_rat=0.4)  # Criteria: Score ≥ 650 and debt-to-income ≤ 40%\n",
    "def process_loan(customer: str, amount: float, credit_score: int, monthly_income: float, monthly_debt: float):\n",
    "    \"\"\"\n",
    "    Procesa una solicitud de préstamo.\n",
    "\n",
    "    Inputs:\n",
    "        customer (str): Nombre del cliente.\n",
    "        amount (float): Monto del préstamo solicitado.\n",
    "        credit_score (int): Puntaje de crédito del cliente.\n",
    "        monthly_income (float): Ingreso mensual del cliente.\n",
    "        monthly_debt (float): Deuda mensual del cliente.\n",
    "\n",
    "    Output:\n",
    "        None\n",
    "    \"\"\"\n",
    "    print(f\"Préstamo registrado - Cliente: {customer}, Monto: ${amount}, Score: {credit_score}, Deuda/Ingreso: {monthly_debt / monthly_income:.2f}\")"
   ]
  },
  {
   "cell_type": "code",
   "execution_count": null,
   "id": "9ce0bcc8",
   "metadata": {},
   "outputs": [],
   "source": [
    "process_loan(\"Juan Pérez\", 5000, 700, 5000, 1500)\n",
    "process_loan(\"Ana Gómez\", 10000, 600, 5000, 1500)\n",
    "process_loan(\"Carlos Ruiz\", 7000, 720, 4000, 2000) "
   ]
  },
  {
   "cell_type": "markdown",
   "id": "d810247f",
   "metadata": {},
   "source": [
    "## Manejo de ficheros"
   ]
  },
  {
   "cell_type": "code",
   "execution_count": null,
   "id": "37bbdd58",
   "metadata": {},
   "outputs": [],
   "source": [
    "# Crear un nuevo directorio\n",
    "path_data = pathlib.Path(r\"../data\")\n",
    "path_data.mkdir(parents=True, exist_ok=True)"
   ]
  },
  {
   "cell_type": "code",
   "execution_count": null,
   "id": "53149555",
   "metadata": {},
   "outputs": [],
   "source": [
    "# Escribir fichero en binario\n",
    "print(path_data.joinpath(\"file_p.txt\"))\n",
    "with open(path_data.joinpath(\"file_p.txt\"), \"w\") as f:\n",
    "    f.write(\"Primera linea\\n\")\n",
    "    f.write(\"Segunda linea\\n\")\n",
    "    f.write(\"Tercera linea\\n\")\n",
    "\n",
    "lines = [\"Quinta linea\", \"Sexta linea\"]\n",
    "with open(path_data.joinpath(\"file_p.txt\"), \"a\") as f:\n",
    "    f.writelines([\"Cuarta linea\\n\", \"Quinta Linea\\n\"])"
   ]
  },
  {
   "cell_type": "code",
   "execution_count": null,
   "id": "bfbe41cd",
   "metadata": {},
   "outputs": [],
   "source": [
    "# Lectura fichero\n",
    "with open(path_data.joinpath(\"file_p.txt\"), \"r\") as f:\n",
    "    #for line in f:\n",
    "        #print(line)\n",
    "    data_ie = f.read()\n",
    "    #data_ie = f.readlines()\n",
    "print(\"Val:\", data_ie)"
   ]
  },
  {
   "cell_type": "code",
   "execution_count": null,
   "id": "82360851",
   "metadata": {},
   "outputs": [],
   "source": [
    "dict_config = {\n",
    "    \"data\": {\n",
    "        \"train\": fr\"C:/Users/34660/projects/mlops_course/data/train.csv\",\n",
    "        \"test\": fr\"C:/Users/34660/projects/mlops_course/data/train.csv\"},\n",
    "    \"models\": {\n",
    "        \"xgboost\": {\n",
    "            \"n_estimators\": 150}\n",
    "        }\n",
    "    }\n",
    "\n",
    "path_data = pathlib.Path(r\"../data/\")\n",
    "path_data.mkdir(parents=True, exist_ok=True)\n",
    "with open(path_data.joinpath(\"config.yml\"), \"w\") as f:\n",
    "    yaml.dump(dict_config, f, default_flow_style=False)"
   ]
  },
  {
   "cell_type": "code",
   "execution_count": null,
   "id": "24eba966",
   "metadata": {},
   "outputs": [],
   "source": [
    "with open(path_data.joinpath(\"config.yml\"), \"r\") as f:\n",
    "    dict_config_val = yaml.safe_load(f)\n",
    "\n",
    "dict_config_val"
   ]
  }
 ],
 "metadata": {
  "kernelspec": {
   "display_name": "venv",
   "language": "python",
   "name": "python3"
  },
  "language_info": {
   "codemirror_mode": {
    "name": "ipython",
    "version": 3
   },
   "file_extension": ".py",
   "mimetype": "text/x-python",
   "name": "python",
   "nbconvert_exporter": "python",
   "pygments_lexer": "ipython3",
   "version": "3.10.7"
  }
 },
 "nbformat": 4,
 "nbformat_minor": 5
}
