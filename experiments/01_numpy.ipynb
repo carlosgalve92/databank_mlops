{
 "cells": [
  {
   "cell_type": "markdown",
   "metadata": {},
   "source": [
    "# Numpy"
   ]
  },
  {
   "cell_type": "markdown",
   "metadata": {},
   "source": [
    "NumPy (Numerical Python) es una biblioteca de Python optimizada para el cálculo numérico. Es la base de muchas otras librerías científicas como Pandas, SciPy, Scikit-learn, TensorFlow y PyTorch."
   ]
  },
  {
   "cell_type": "code",
   "execution_count": null,
   "metadata": {},
   "outputs": [],
   "source": [
    "# Carga librería\n",
    "import numpy as np\n",
    "\n",
    "import time"
   ]
  },
  {
   "cell_type": "code",
   "execution_count": null,
   "metadata": {},
   "outputs": [],
   "source": [
    "np.random.seed(202503)"
   ]
  },
  {
   "cell_type": "markdown",
   "metadata": {},
   "source": [
    "# Creacion de arrays"
   ]
  },
  {
   "cell_type": "code",
   "execution_count": null,
   "metadata": {},
   "outputs": [],
   "source": [
    "# Creacion de array de ceros\n",
    "zeros = np.zeros((3, 3))\n",
    "zeros"
   ]
  },
  {
   "cell_type": "code",
   "execution_count": null,
   "metadata": {},
   "outputs": [],
   "source": [
    "# Creacion de array de unos\n",
    "ones = np.ones((2, 4))  # Matriz 2x4 de unos\n",
    "ones"
   ]
  },
  {
   "cell_type": "code",
   "execution_count": null,
   "metadata": {},
   "outputs": [],
   "source": [
    "# Creación de array con forma de matriz identidad\n",
    "identity = np.eye(4)\n",
    "identity"
   ]
  },
  {
   "cell_type": "code",
   "execution_count": null,
   "metadata": {},
   "outputs": [],
   "source": [
    "# Creación de arrary de numeros aleatorios\n",
    "random_vals = np.random.rand(3, 3)\n",
    "random_vals"
   ]
  },
  {
   "cell_type": "markdown",
   "metadata": {},
   "source": [
    "##  Indexación y Slicing"
   ]
  },
  {
   "cell_type": "code",
   "execution_count": null,
   "metadata": {},
   "outputs": [],
   "source": [
    "# Se genera array\n",
    "arr = np.random.normal(0, 1, (5, 3, 2))\n",
    "arr"
   ]
  },
  {
   "cell_type": "code",
   "execution_count": null,
   "metadata": {},
   "outputs": [],
   "source": [
    "# Segunda matriz, la primera fila y la segunda columna\n",
    "arr[1, 0, 1]"
   ]
  },
  {
   "cell_type": "code",
   "execution_count": null,
   "metadata": {},
   "outputs": [],
   "source": [
    "# Segunda matriz, la primera fila completa\n",
    "arr[1, 0, :]"
   ]
  },
  {
   "cell_type": "code",
   "execution_count": null,
   "metadata": {},
   "outputs": [],
   "source": [
    "# Segunda columna de todos\n",
    "arr[:, :, 1, np.newaxis]"
   ]
  },
  {
   "cell_type": "markdown",
   "metadata": {},
   "source": [
    "## Operaciones"
   ]
  },
  {
   "cell_type": "code",
   "execution_count": null,
   "metadata": {},
   "outputs": [],
   "source": [
    "# Creación de arrays\n",
    "arr_1 = np.random.uniform(0, 1, (3, 3))\n",
    "arr_2 = np.random.normal(0, 1, (3, 3))"
   ]
  },
  {
   "cell_type": "code",
   "execution_count": null,
   "metadata": {},
   "outputs": [],
   "source": [
    "# Suma\n",
    "arr_1 + arr_2"
   ]
  },
  {
   "cell_type": "code",
   "execution_count": null,
   "metadata": {},
   "outputs": [],
   "source": [
    "# Resta\n",
    "arr_1 - arr_2"
   ]
  },
  {
   "cell_type": "code",
   "execution_count": null,
   "metadata": {},
   "outputs": [],
   "source": [
    "# Multiplicacion\n",
    "arr_1 * arr_2"
   ]
  },
  {
   "cell_type": "code",
   "execution_count": null,
   "metadata": {},
   "outputs": [],
   "source": [
    "# División\n",
    "arr_1 / arr_2"
   ]
  },
  {
   "cell_type": "code",
   "execution_count": null,
   "metadata": {},
   "outputs": [],
   "source": [
    "# Multiplicación de matrices\n",
    "arr_1 @ arr_2"
   ]
  },
  {
   "cell_type": "code",
   "execution_count": null,
   "metadata": {},
   "outputs": [],
   "source": [
    "# Multiplicación por un escalar\n",
    "arr_1 * 100"
   ]
  },
  {
   "cell_type": "code",
   "execution_count": null,
   "metadata": {},
   "outputs": [],
   "source": [
    "# Multiplicación por un escalar y se calcula\n",
    "# la suma de cada columna\n",
    "(100 * arr_1).sum(axis=0)"
   ]
  },
  {
   "cell_type": "code",
   "execution_count": null,
   "metadata": {},
   "outputs": [],
   "source": [
    "# Multiplicación por un escalar y se calcula\n",
    "# la máximo de cada fila\n",
    "(100 * arr_1).max(axis=1)"
   ]
  },
  {
   "cell_type": "code",
   "execution_count": null,
   "metadata": {},
   "outputs": [],
   "source": [
    "# Multiplicación por un escalar y se calcula\n",
    "# la el índice del máximo de cada fila\n",
    "(100 * arr_1).argmax(axis=1)"
   ]
  },
  {
   "cell_type": "code",
   "execution_count": null,
   "metadata": {},
   "outputs": [],
   "source": [
    "# Broadcasting\n",
    "arr_a = np.ones((1, 3))\n",
    "arr_b = np.ones((3, 1))\n",
    "arr_c = arr_a + arr_b\n",
    "\n",
    "print(arr_a)\n",
    "print(arr_b)\n",
    "print(arr_c)"
   ]
  },
  {
   "cell_type": "markdown",
   "metadata": {},
   "source": [
    "## Algebra lineal"
   ]
  },
  {
   "cell_type": "code",
   "execution_count": null,
   "metadata": {},
   "outputs": [],
   "source": [
    "# Determinante de una matriz\n",
    "np.linalg.det(arr_1)"
   ]
  },
  {
   "cell_type": "code",
   "execution_count": null,
   "metadata": {},
   "outputs": [],
   "source": [
    "# Inversa de una matriz\n",
    "np.linalg.inv(arr_1)"
   ]
  },
  {
   "cell_type": "code",
   "execution_count": null,
   "metadata": {},
   "outputs": [],
   "source": [
    "# Autovalores y autovectores\n",
    "eigvalues, eigvectors = np.linalg.eig(arr_1)"
   ]
  },
  {
   "cell_type": "markdown",
   "metadata": {},
   "source": [
    "## Metdodos habituales"
   ]
  },
  {
   "cell_type": "code",
   "execution_count": null,
   "metadata": {},
   "outputs": [],
   "source": [
    "# Se genera array\n",
    "arr_1 = np.random.normal(0, 1, (1, 1, 2, 5, 5))\n",
    "print(arr_1.shape)\n",
    "print(arr_1.ndim)\n",
    "print(arr_1.size)\n",
    "arr_1[0, 0, 1, 4, :]"
   ]
  },
  {
   "cell_type": "code",
   "execution_count": null,
   "metadata": {},
   "outputs": [],
   "source": [
    "# Copia de array\n",
    "arr_2 = arr_1.copy()\n",
    "arr_2[0, 0, 1, 4, 2] = 100.0\n",
    "print(arr_2.shape)\n",
    "print(arr_2.ndim)\n",
    "print(arr_2.size)\n",
    "arr_1[0, 0, 1, 4, :]"
   ]
  },
  {
   "cell_type": "code",
   "execution_count": null,
   "metadata": {},
   "outputs": [],
   "source": [
    "# Aplana el array y devuelve vista\n",
    "arr_3 = arr_1.view()\n",
    "arr_3[0, 0, 1, 4, 2] = 100.0\n",
    "print(arr_2.shape)\n",
    "print(arr_2.ndim)\n",
    "print(arr_2.size)\n",
    "arr_1[0, 0, 1, 4, :]"
   ]
  },
  {
   "cell_type": "code",
   "execution_count": null,
   "metadata": {},
   "outputs": [],
   "source": [
    "# Elimina dimensiones sobrantes\n",
    "arr_1 = arr_1.squeeze()\n",
    "print(arr_1.shape)\n",
    "print(arr_1.ndim)\n",
    "print(arr_1.size)"
   ]
  },
  {
   "cell_type": "code",
   "execution_count": null,
   "metadata": {},
   "outputs": [],
   "source": [
    "# Resstrutura las dimensiones del array\n",
    "arr_1 = arr_1.reshape(2, -1)\n",
    "print(arr_1.shape)\n",
    "print(arr_1.ndim)\n",
    "print(arr_1.size)\n",
    "arr_1"
   ]
  },
  {
   "cell_type": "code",
   "execution_count": null,
   "metadata": {},
   "outputs": [],
   "source": [
    "# Aplana el array y devuelve vista\n",
    "arr_2 = arr_1.ravel()\n",
    "print(arr_2.shape)\n",
    "print(arr_2.ndim)\n",
    "print(arr_2.size)\n",
    "arr_2"
   ]
  },
  {
   "cell_type": "code",
   "execution_count": null,
   "metadata": {},
   "outputs": [],
   "source": [
    "# Aplana el array y devuelve copia\n",
    "arr_3 = arr_1.flatten()\n",
    "print(arr_3.shape)\n",
    "print(arr_3.ndim)\n",
    "print(arr_3.size)\n",
    "arr_3"
   ]
  },
  {
   "cell_type": "markdown",
   "metadata": {},
   "source": [
    "## Avanzado"
   ]
  },
  {
   "cell_type": "code",
   "execution_count": null,
   "metadata": {},
   "outputs": [],
   "source": [
    "# Se crea array\n",
    "arr_z = np.random.rand(10000, 10000)\n",
    "arr_z.shape"
   ]
  },
  {
   "cell_type": "code",
   "execution_count": null,
   "metadata": {},
   "outputs": [],
   "source": [
    "# Acceso a memoria contigua por Columnas\n",
    "arr_f = np.asfortranarray(arr_z)\n",
    "# Acceso a memoria contigua por Filas\n",
    "arr_c = np.ascontiguousarray(arr_z)\n",
    "# Matriz grande contigua en memoria\n",
    "\n",
    "# Comparacion de tiempos\n",
    "\n",
    "# En C\n",
    "start_time = time.time()\n",
    "arr_c.sum(axis=1)\n",
    "print(time.time() - start_time)\n",
    "\n",
    "# En F\n",
    "start_time = time.time()\n",
    "arr_f.sum(axis=1)\n",
    "print(time.time() - start_time)"
   ]
  }
 ],
 "metadata": {
  "kernelspec": {
   "display_name": "venv",
   "language": "python",
   "name": "python3"
  },
  "language_info": {
   "codemirror_mode": {
    "name": "ipython",
    "version": 3
   },
   "file_extension": ".py",
   "mimetype": "text/x-python",
   "name": "python",
   "nbconvert_exporter": "python",
   "pygments_lexer": "ipython3",
   "version": "3.10.7"
  }
 },
 "nbformat": 4,
 "nbformat_minor": 2
}
