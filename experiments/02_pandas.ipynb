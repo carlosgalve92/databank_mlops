{
 "cells": [
  {
   "cell_type": "markdown",
   "metadata": {},
   "source": [
    "# Pandas"
   ]
  },
  {
   "cell_type": "markdown",
   "metadata": {},
   "source": [
    "Es una biblioteca de Python ampliamente utilizada para la manipulación y análisis de datos. Proporciona estructuras de datos flexibles y poderosas como DataFrame y Series, que permiten almacenar, limpiar, transformar, analizar y manipular grandes volúmenes de datos de manera eficiente. Se utiliza comúnmente en tareas de análisis exploratorio de datos (EDA), procesamiento de datos y preparación de datos para modelos de Machine Learning."
   ]
  },
  {
   "cell_type": "code",
   "execution_count": null,
   "metadata": {},
   "outputs": [],
   "source": [
    "import numpy as np\n",
    "import pandas as pd\n",
    "import pathlib\n",
    "\n",
    "import time"
   ]
  },
  {
   "cell_type": "code",
   "execution_count": null,
   "metadata": {},
   "outputs": [],
   "source": [
    "PATH_DATA = pathlib.Path(r\"../data/\")"
   ]
  },
  {
   "cell_type": "markdown",
   "metadata": {},
   "source": [
    "## Creacion de dataframe"
   ]
  },
  {
   "cell_type": "code",
   "execution_count": null,
   "metadata": {},
   "outputs": [],
   "source": [
    "# Dimensiones del dataframe\n",
    "N = 2000\n",
    "M = 10\n",
    "\n",
    "# Semilla de numpy\n",
    "np.random.seed(202503)"
   ]
  },
  {
   "cell_type": "code",
   "execution_count": null,
   "metadata": {},
   "outputs": [],
   "source": [
    "# Se genera dataframe con M columnas y N filas numericas\n",
    "df = pd.DataFrame(\n",
    "    np.random.normal(0, 1, (N, M)), columns=[f\"COL_{i}\" for i in range(M)]\n",
    ")\n",
    "print(df.shape)\n",
    "df.head()"
   ]
  },
  {
   "cell_type": "code",
   "execution_count": null,
   "metadata": {},
   "outputs": [],
   "source": [
    "# Se le agregan 5 variables string\n",
    "for letra in \"abcde\".upper():\n",
    "    df[f\"COL_{letra}\"] = np.random.choice(\n",
    "        [f\"REGION_{i}\" for i in range(20)], df.shape[0], replace=True\n",
    "    )\n",
    "print(df.shape)\n",
    "df.head()"
   ]
  },
  {
   "cell_type": "code",
   "execution_count": null,
   "metadata": {},
   "outputs": [],
   "source": [
    "# Se simula un NRO_ID\n",
    "print(df.shape)\n",
    "df[\"NRO_ID\"] = np.random.randint(10000000, 30000000, df.shape[0])\n",
    "df = df.drop_duplicates(subset=[\"NRO_ID\"])\n",
    "print(df.shape)\n",
    "\n",
    "# Se genera tipo cliente\n",
    "df[\"TYPE\"] = np.random.choice([\"NUEVO\", \"BANCO\"], df.shape[0], replace=True)\n",
    "print(df.shape)\n",
    "df.head()"
   ]
  },
  {
   "cell_type": "code",
   "execution_count": null,
   "metadata": {},
   "outputs": [],
   "source": [
    "# Se genera segundo dataframe solo con fechas\n",
    "df_dates = pd.DataFrame(\n",
    "    pd.date_range(start=\"2024-01-01\", periods=420, freq=\"D\"), columns=[\"DATE_FIELD\"]\n",
    ")\n",
    "df_dates.tail()"
   ]
  },
  {
   "cell_type": "code",
   "execution_count": null,
   "metadata": {},
   "outputs": [],
   "source": [
    "# Se realiza un cross join\n",
    "print(df.shape)\n",
    "print(df.shape[0] * df_dates.shape[0])\n",
    "df = df.join(df_dates, how=\"cross\")\n",
    "print(df.shape)\n",
    "df.head()"
   ]
  },
  {
   "cell_type": "code",
   "execution_count": null,
   "metadata": {},
   "outputs": [],
   "source": [
    "# Se genera una mascara para eliminar filas\n",
    "filas_a_eliminar = np.random.choice(\n",
    "    np.arange(df.shape[0]), np.floor(0.2 * df.shape[0]).astype(np.int64), replace=False\n",
    ")\n",
    "mask = np.ones(df.shape[0]).astype(np.bool)\n",
    "mask[filas_a_eliminar] = False\n",
    "\n",
    "# Se aplica la máscara\n",
    "print(df.shape)\n",
    "df = df.iloc[mask, :]\n",
    "print(df.shape)"
   ]
  },
  {
   "cell_type": "code",
   "execution_count": null,
   "metadata": {},
   "outputs": [],
   "source": [
    "df.describe()"
   ]
  },
  {
   "cell_type": "code",
   "execution_count": null,
   "metadata": {},
   "outputs": [],
   "source": [
    "df.info()"
   ]
  },
  {
   "cell_type": "markdown",
   "metadata": {},
   "source": [
    "##  Indexación y Slicing"
   ]
  },
  {
   "cell_type": "code",
   "execution_count": null,
   "metadata": {},
   "outputs": [],
   "source": [
    "# Por nombres\n",
    "df_aux1 = df.loc[\n",
    "    (\n",
    "        ((df.COL_1 > 0) | (df.COL_4 > 0))\n",
    "        & (df.COL_A).isin([\"REGION_1\", \"REGION_7\", \"REGION_15\"])\n",
    "    ),\n",
    "    [\"DATE_FIELD\", \"NRO_ID\", \"TYPE\", \"COL_3\", \"COL_4\"],\n",
    "]\n",
    "print(df_aux1.shape)\n",
    "df_aux1.head(3)"
   ]
  },
  {
   "cell_type": "code",
   "execution_count": null,
   "metadata": {},
   "outputs": [],
   "source": [
    "# Por indices\n",
    "df_aux2 = df.iloc[\n",
    "    np.where(\n",
    "        ((df.COL_1 > 0) | (df.COL_4 > 0))\n",
    "        & (df.COL_A).isin([\"REGION_1\", \"REGION_7\", \"REGION_15\"])\n",
    "    )[0],\n",
    "    [17, 16, 15, 3, 4],\n",
    "]\n",
    "df_aux2.head(3)"
   ]
  },
  {
   "cell_type": "code",
   "execution_count": null,
   "metadata": {},
   "outputs": [],
   "source": [
    "# Seleccionar columnas mediante expresiones regulares\n",
    "# Ejemplo: columnas que terminan en numero\n",
    "ls_col_num = df.filter(regex=r\".*\\d+$\").columns\n",
    "ls_col_num"
   ]
  },
  {
   "cell_type": "code",
   "execution_count": null,
   "metadata": {},
   "outputs": [],
   "source": [
    "# Ejemplo: columnas que terminan en letra\n",
    "ls_col_str = df.filter(regex=r\".*\\_[A-Z]$\").columns\n",
    "ls_col_str"
   ]
  },
  {
   "cell_type": "code",
   "execution_count": null,
   "metadata": {},
   "outputs": [],
   "source": [
    "# Ejemplo: columnas ID\n",
    "ls_cols_id = df.filter(regex=r\"(DATE_FIELD|NRO_ID|TYPE)\").columns\n",
    "ls_cols_id"
   ]
  },
  {
   "cell_type": "markdown",
   "metadata": {},
   "source": [
    "## Operaciones"
   ]
  },
  {
   "cell_type": "code",
   "execution_count": null,
   "metadata": {},
   "outputs": [],
   "source": [
    "# Suma o resta\n",
    "(df.COL_1 + df.COL_3).head()"
   ]
  },
  {
   "cell_type": "code",
   "execution_count": null,
   "metadata": {},
   "outputs": [],
   "source": [
    "# Suma o resta\n",
    "df.loc[:, [\"COL_1\", \"COL_3\"]].sum(axis=1).head()"
   ]
  },
  {
   "cell_type": "code",
   "execution_count": null,
   "metadata": {},
   "outputs": [],
   "source": [
    "# Sumar todos los elementso de una columna\n",
    "df.COL_1.sum()"
   ]
  },
  {
   "cell_type": "code",
   "execution_count": null,
   "metadata": {},
   "outputs": [],
   "source": [
    "# Quantiles\n",
    "df.COL_1.quantile(\n",
    "    [\n",
    "        0.1,\n",
    "        0.5,\n",
    "        1,\n",
    "    ]\n",
    ")"
   ]
  },
  {
   "cell_type": "code",
   "execution_count": null,
   "metadata": {},
   "outputs": [],
   "source": [
    "# 3 grupos por quantiles 0.1, 0.5, 1.\n",
    "pd.qcut(\n",
    "    df.COL_1,\n",
    "    [\n",
    "        0.0,\n",
    "        0.1,\n",
    "        0.5,\n",
    "        1.0,\n",
    "    ],\n",
    "    duplicates=\"drop\",\n",
    ").head()"
   ]
  },
  {
   "cell_type": "code",
   "execution_count": null,
   "metadata": {},
   "outputs": [],
   "source": [
    "# Desplazamienos\n",
    "df[\"COL_1_P\"] = df.COL_1.shift(2)\n",
    "df.head()"
   ]
  },
  {
   "cell_type": "markdown",
   "metadata": {},
   "source": [
    "## Group by"
   ]
  },
  {
   "cell_type": "code",
   "execution_count": null,
   "metadata": {},
   "outputs": [],
   "source": [
    "# Group by\n",
    "df.groupby([\"NRO_ID\"], dropna=False, as_index=False).COL_1.mean().head()"
   ]
  },
  {
   "cell_type": "code",
   "execution_count": null,
   "metadata": {},
   "outputs": [],
   "source": [
    "# Agg\n",
    "df.groupby([\"TYPE\", \"COL_A\"], dropna=False, as_index=False).agg(\n",
    "    AVG_COL_1=(\"COL_1\", \"mean\"),\n",
    "    MAX_COL_7=(\"COL_7\", \"max\"),\n",
    ").head()"
   ]
  },
  {
   "cell_type": "code",
   "execution_count": null,
   "metadata": {},
   "outputs": [],
   "source": [
    "# Transform\n",
    "df[\"COL_1_SUM_BY_TYPE_AND_COL_A\"] = df.groupby(\n",
    "    [\"TYPE\", \"COL_A\"], dropna=False, as_index=False\n",
    ").COL_1.transform(\"sum\")\n",
    "df.head()"
   ]
  },
  {
   "cell_type": "code",
   "execution_count": null,
   "metadata": {},
   "outputs": [],
   "source": [
    "# rolling (window)\n",
    "df[\"COL_1_ROLL\"] = df.groupby([\"NRO_ID\"]).COL_1.transform(\n",
    "    lambda x: x.rolling(window=3).sum()\n",
    ")\n",
    "df.head()"
   ]
  },
  {
   "cell_type": "markdown",
   "metadata": {},
   "source": [
    "## Pivotar"
   ]
  },
  {
   "cell_type": "code",
   "execution_count": null,
   "metadata": {},
   "outputs": [],
   "source": [
    "# Pivotar\n",
    "df_aux = df.pivot_table(\n",
    "    values=\"COL_3\", index=[\"COL_A\"], columns=\"TYPE\", aggfunc=\"mean\", dropna=False\n",
    ").head()\n",
    "df_aux = df_aux.reset_index()\n",
    "df_aux"
   ]
  },
  {
   "cell_type": "code",
   "execution_count": null,
   "metadata": {},
   "outputs": [],
   "source": [
    "# Wide to long\n",
    "df_aux = df_aux.melt(\n",
    "    id_vars=\"COL_A\", value_vars=[\"BANCO\", \"NUEVO\"], var_name=\"TYPE\", value_name=\"VALOR\"\n",
    ")\n",
    "df_aux"
   ]
  },
  {
   "cell_type": "markdown",
   "metadata": {},
   "source": [
    "## Concatenar dataframes"
   ]
  },
  {
   "cell_type": "code",
   "execution_count": null,
   "metadata": {},
   "outputs": [],
   "source": [
    "df_aux = df.iloc[df.shape[0] // 2 :, :]\n",
    "print(df_aux.shape)\n",
    "df_aux_2 = pd.concat([df_aux, df], axis=0, ignore_index=True)\n",
    "print(df_aux_2.shape)\n",
    "df_aux_2.head()"
   ]
  },
  {
   "cell_type": "markdown",
   "metadata": {},
   "source": [
    "## Ordenar DataFrame"
   ]
  },
  {
   "cell_type": "code",
   "execution_count": null,
   "metadata": {},
   "outputs": [],
   "source": [
    "df = df.sort_values(by=[\"NRO_ID\", \"DATE_FIELD\"], ascending=[True, True])\n",
    "df.head()"
   ]
  },
  {
   "cell_type": "markdown",
   "metadata": {},
   "source": [
    "## Joins"
   ]
  },
  {
   "cell_type": "code",
   "execution_count": null,
   "metadata": {},
   "outputs": [],
   "source": [
    "dict_reg_ciu = {\"REGION\": [], \"CIUDAD\": []}\n",
    "for i in range(20):\n",
    "    dict_reg_ciu[\"REGION\"].append(f\"REGION_{i}\")\n",
    "    dict_reg_ciu[\"CIUDAD\"].append(f\"CIUDAD_{i}\")\n",
    "df_reg_ciu = pd.DataFrame(dict_reg_ciu)\n",
    "df_reg_ciu.head()"
   ]
  },
  {
   "cell_type": "code",
   "execution_count": null,
   "metadata": {},
   "outputs": [],
   "source": [
    "print(df.shape)\n",
    "df_3 = df.merge(df_reg_ciu, how=\"inner\", left_on=\"COL_A\", right_on=\"REGION\")\n",
    "print(df_3.shape)\n",
    "df_3.head()"
   ]
  },
  {
   "cell_type": "markdown",
   "metadata": {},
   "source": [
    "## Ejemplo calculo percentiles"
   ]
  },
  {
   "cell_type": "code",
   "execution_count": null,
   "metadata": {},
   "outputs": [],
   "source": [
    "# Previo\n",
    "def percentiles_1(df, feature, k):\n",
    "    limites = pd.Series([i / k for i in range(k + 1)])\n",
    "    return df[feature].rank(pct=1).apply(lambda x: (limites >= x).argmax())\n",
    "\n",
    "\n",
    "# Posterior\n",
    "def percentiles_2(df, feature, k):\n",
    "    limites = np.linspace(0, 1, k + 1)\n",
    "    return (df[feature].rank(pct=1).values.reshape((-1, 1)) <= limites).argmax(axis=1)"
   ]
  },
  {
   "cell_type": "code",
   "execution_count": null,
   "metadata": {},
   "outputs": [],
   "source": [
    "df_prueba = pd.DataFrame(np.random.normal(0, 1, (600000, 4)))\n",
    "start_time = time.time()\n",
    "percentiles_1(df_prueba, 2, 10)\n",
    "print(time.time() - start_time)"
   ]
  },
  {
   "cell_type": "code",
   "execution_count": null,
   "metadata": {},
   "outputs": [],
   "source": [
    "start_time = time.time()\n",
    "percentiles_2(df_prueba, 2, 10)\n",
    "print(time.time() - start_time)"
   ]
  },
  {
   "cell_type": "markdown",
   "metadata": {},
   "source": [
    "## Escritura y lectura"
   ]
  },
  {
   "cell_type": "code",
   "execution_count": null,
   "metadata": {},
   "outputs": [],
   "source": [
    "# Escritura a parquet (necesita package adicional)\n",
    "df.to_parquet(PATH_DATA.joinpath(r\"prueba.parquet\"), index=False)\n",
    "df.head(2)"
   ]
  },
  {
   "cell_type": "code",
   "execution_count": null,
   "metadata": {},
   "outputs": [],
   "source": [
    "# Lectura parquet (necesita package adicional)\n",
    "df = pd.read_parquet(PATH_DATA.joinpath(r\"prueba.parquet\"))\n",
    "df.head(2)"
   ]
  },
  {
   "cell_type": "code",
   "execution_count": null,
   "metadata": {},
   "outputs": [],
   "source": [
    "# Escritura a csv\n",
    "df.to_csv(PATH_DATA.joinpath(r\"prueba.csv\"), sep=\";\", index=False, float_format=\"%.8f\")\n",
    "df.head()"
   ]
  },
  {
   "cell_type": "code",
   "execution_count": null,
   "metadata": {},
   "outputs": [],
   "source": [
    "# Lectura csv\n",
    "df = pd.read_csv(PATH_DATA.joinpath(r\"prueba.csv\"), sep=\";\")\n",
    "df.head(2)"
   ]
  },
  {
   "cell_type": "code",
   "execution_count": null,
   "metadata": {},
   "outputs": [],
   "source": [
    "# Escritura a csv (comprimido)\n",
    "df.to_csv(\n",
    "    PATH_DATA.joinpath(r\"prueba.csv.gz\"), sep=\";\", index=False, float_format=\"%.8f\"\n",
    ")"
   ]
  },
  {
   "cell_type": "code",
   "execution_count": null,
   "metadata": {},
   "outputs": [],
   "source": [
    "# Lectura csv (comprimido)\n",
    "df = pd.read_csv(PATH_DATA.joinpath(r\"prueba.csv.gz\"), sep=\";\")\n",
    "df.head(2)"
   ]
  },
  {
   "cell_type": "code",
   "execution_count": null,
   "metadata": {},
   "outputs": [],
   "source": [
    "# Escritura a xlsx (necesita package adicional)\n",
    "df.to_excel(PATH_DATA.joinpath(r\"prueba.xlsx\"), index=False)"
   ]
  },
  {
   "cell_type": "code",
   "execution_count": null,
   "metadata": {},
   "outputs": [],
   "source": [
    "# Lectura xlsx (necesita package adicional)\n",
    "df = pd.read_excel(PATH_DATA.joinpath(r\"prueba.xlsx\"))"
   ]
  }
 ],
 "metadata": {
  "kernelspec": {
   "display_name": "venv",
   "language": "python",
   "name": "python3"
  },
  "language_info": {
   "codemirror_mode": {
    "name": "ipython",
    "version": 3
   },
   "file_extension": ".py",
   "mimetype": "text/x-python",
   "name": "python",
   "nbconvert_exporter": "python",
   "pygments_lexer": "ipython3",
   "version": "3.10.7"
  }
 },
 "nbformat": 4,
 "nbformat_minor": 2
}
