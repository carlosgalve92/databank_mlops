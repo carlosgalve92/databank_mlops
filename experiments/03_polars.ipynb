{
 "cells": [
  {
   "cell_type": "markdown",
   "metadata": {},
   "source": [
    "# Polars"
   ]
  },
  {
   "cell_type": "markdown",
   "metadata": {},
   "source": [
    "Es una biblioteca de procesamiento de datos rápida, eficiente y fácil de usar, diseñada para manejar grandes volúmenes de datos (en particular, en máquinas con memoria limitada) de manera mucho más eficiente que pandas, gracias a su uso de Rust y su capacidad para paralelizar operaciones.\n",
    "\n",
    "Características clave:\n",
    "\n",
    "* Lazy evaluation: Permite escribir código de manera declarativa y optimiza la ejecución de las operaciones a nivel de conjunto de datos.\n",
    "\n",
    "* Paralelización automática: Polars puede aprovechar los núcleos del CPU para realizar operaciones en paralelo de manera transparente."
   ]
  },
  {
   "cell_type": "code",
   "execution_count": null,
   "metadata": {},
   "outputs": [],
   "source": [
    "import polars as pl\n",
    "import pathlib"
   ]
  },
  {
   "cell_type": "code",
   "execution_count": null,
   "metadata": {},
   "outputs": [],
   "source": [
    "# Se parametriza la ruta de los datos\n",
    "PATH_DATA = pathlib.Path(r\"../data\")"
   ]
  },
  {
   "cell_type": "markdown",
   "metadata": {},
   "source": [
    "## Lectura de ficheros"
   ]
  },
  {
   "cell_type": "code",
   "execution_count": null,
   "metadata": {},
   "outputs": [],
   "source": [
    "# Lectura de parquet en DataFrame\n",
    "df = pl.read_parquet(PATH_DATA.joinpath(\"prueba.parquet\"))\n",
    "df.head(2)"
   ]
  },
  {
   "cell_type": "code",
   "execution_count": null,
   "metadata": {},
   "outputs": [],
   "source": [
    "# Lectura de parquet en LazyFrame\n",
    "lf = pl.scan_parquet(PATH_DATA.joinpath(\"prueba.parquet\"))\n",
    "lf.head(2).collect()"
   ]
  },
  {
   "cell_type": "code",
   "execution_count": null,
   "metadata": {},
   "outputs": [],
   "source": [
    "# Seleccionar columnas numericas por regex\n",
    "# y mostrar su descriptivo\n",
    "lf.select(pl.col(r\"^(.*\\d+)$\")).describe()"
   ]
  },
  {
   "cell_type": "code",
   "execution_count": null,
   "metadata": {},
   "outputs": [],
   "source": [
    "# Crear una nueva columna\n",
    "lf = lf.with_columns((pl.col(\"COL_1\") * 2).alias(\"COL_1_DOUBLED\"))\n",
    "lf = lf.with_row_index(name=\"INDEX\").filter(\n",
    "    (pl.col(\"INDEX\") > 100) & (pl.col(\"INDEX\") < 10000)\n",
    ")\n",
    "lf.head(2).collect(engine=\"streaming\")"
   ]
  },
  {
   "cell_type": "code",
   "execution_count": null,
   "metadata": {},
   "outputs": [],
   "source": [
    "# Renombrar columnas\n",
    "lf = lf.rename({\"INDEX\": \"INDICE\"})\n",
    "lf.head(2).collect()"
   ]
  },
  {
   "cell_type": "code",
   "execution_count": null,
   "metadata": {},
   "outputs": [],
   "source": [
    "# Conseguir numero de columnas\n",
    "lf.collect_schema().len()"
   ]
  },
  {
   "cell_type": "markdown",
   "metadata": {},
   "source": [
    "##  Indexación y Slicing"
   ]
  },
  {
   "cell_type": "code",
   "execution_count": null,
   "metadata": {},
   "outputs": [],
   "source": [
    "# Selección de columnas\n",
    "lf.select(\n",
    "    [\n",
    "        (pl.col(\"COL_1\") + pl.col(\"COL_2\")).alias(\"COL_1_ADD_2\"),\n",
    "        (pl.col(\"COL_1\") * pl.col(\"COL_2\")).alias(\"COL_1_MULT_2\"),\n",
    "    ]\n",
    ").head(2).collect()"
   ]
  },
  {
   "cell_type": "code",
   "execution_count": null,
   "metadata": {},
   "outputs": [],
   "source": [
    "# Filtro\n",
    "lf.filter((pl.col(\"INDICE\") >= 0) & (pl.col(\"INDICE\") < 1000)).head(2).collect()"
   ]
  },
  {
   "cell_type": "code",
   "execution_count": null,
   "metadata": {},
   "outputs": [],
   "source": [
    "# Slicing\n",
    "lf.select(pl.col(\"DATE_FIELD\")).slice(1, 3).collect()"
   ]
  },
  {
   "cell_type": "markdown",
   "metadata": {},
   "source": [
    "## Operaciones"
   ]
  },
  {
   "cell_type": "code",
   "execution_count": null,
   "metadata": {},
   "outputs": [],
   "source": [
    "# Suma\n",
    "lf.select((pl.col(\"COL_1\") + pl.col(\"COL_2\"))).head(2).collect()"
   ]
  },
  {
   "cell_type": "code",
   "execution_count": null,
   "metadata": {},
   "outputs": [],
   "source": [
    "# Suma\n",
    "lf.select(\n",
    "    pl.sum_horizontal(pl.col(\"COL_1\"), pl.col(\"COL_2\")).alias(\"SUM_COL_1_COL_2\")\n",
    ").head(2).collect()"
   ]
  },
  {
   "cell_type": "code",
   "execution_count": null,
   "metadata": {},
   "outputs": [],
   "source": [
    "# Calcular quantile\n",
    "lf.select(pl.col(\"COL_1\")).quantile(quantile=0.5).collect()"
   ]
  },
  {
   "cell_type": "code",
   "execution_count": null,
   "metadata": {},
   "outputs": [],
   "source": [
    "# Calcular grupos de quantiles\n",
    "lf.with_columns(\n",
    "    pl.col(\"COL_1\").qcut([0, 0.2, 0.5, 1], allow_duplicates=False).alias(\"QUANTILES\")\n",
    ").select([pl.col(\"COL_1\"), pl.col(\"QUANTILES\")]).head(2).collect()"
   ]
  },
  {
   "cell_type": "markdown",
   "metadata": {},
   "source": [
    "## Group by"
   ]
  },
  {
   "cell_type": "code",
   "execution_count": null,
   "metadata": {},
   "outputs": [],
   "source": [
    "# Group by\n",
    "lf.group_by([pl.col(\"TYPE\"), pl.col(\"COL_A\")]).agg(\n",
    "    [\n",
    "        pl.col(\"COL_1\").sum().alias(\"SUM_COL_1\"),\n",
    "        pl.col(\"COL_1\").sum().alias(\"AVG_COL_1\"),\n",
    "    ]\n",
    ").head(2).collect()"
   ]
  },
  {
   "cell_type": "markdown",
   "metadata": {},
   "source": [
    "## Pivotar"
   ]
  },
  {
   "cell_type": "code",
   "execution_count": null,
   "metadata": {},
   "outputs": [],
   "source": [
    "# Pivotar\n",
    "lf_pivot = lf.group_by(pl.col(\"TYPE\")).agg(\n",
    "    [\n",
    "        pl.col(\"COL_1\").filter(pl.col(\"COL_A\") == \"REGION_3\").mean().alias(\"A\"),\n",
    "        pl.col(\"COL_1\").filter(pl.col(\"COL_A\") == \"REGION_1\").mean().alias(\"B\"),\n",
    "    ]\n",
    ")\n",
    "lf_pivot.collect()"
   ]
  },
  {
   "cell_type": "code",
   "execution_count": null,
   "metadata": {},
   "outputs": [],
   "source": [
    "# wide to long\n",
    "lf_unpivot = lf_pivot.unpivot(\n",
    "    index=[\"TYPE\"], on=[\"A\", \"B\"], variable_name=\"COL_A\", value_name=\"VALUE\"\n",
    ")\n",
    "lf_unpivot.collect()"
   ]
  },
  {
   "cell_type": "markdown",
   "metadata": {},
   "source": [
    "## Concatenar"
   ]
  },
  {
   "cell_type": "code",
   "execution_count": null,
   "metadata": {},
   "outputs": [],
   "source": [
    "# Concatenar\n",
    "lf_concat = pl.concat([lf, lf.drop(pl.col(\"COL_1\"))], how=\"diagonal\")\n",
    "print(lf_concat.select(\"COL_1\").count().collect())\n",
    "print(lf.select(\"COL_1\").count().collect())\n",
    "lf_concat.tail(2).collect()"
   ]
  },
  {
   "cell_type": "markdown",
   "metadata": {},
   "source": [
    "## Ordenar"
   ]
  },
  {
   "cell_type": "code",
   "execution_count": null,
   "metadata": {},
   "outputs": [],
   "source": [
    "# Ordenar\n",
    "lf.sort(by=[pl.col(\"NRO_ID\"), pl.col(\"DATE_FIELD\")], descending=[True, True]).head(\n",
    "    2\n",
    ").collect()"
   ]
  },
  {
   "cell_type": "markdown",
   "metadata": {},
   "source": [
    "## Joins"
   ]
  },
  {
   "cell_type": "code",
   "execution_count": null,
   "metadata": {},
   "outputs": [],
   "source": [
    "# Crear LazyFrame auxiliar\n",
    "dict_reg_ciu = {\"REGION\": [], \"CIUDAD\": []}\n",
    "for i in range(20):\n",
    "    dict_reg_ciu[\"REGION\"].append(f\"REGION_{i}\")\n",
    "    dict_reg_ciu[\"CIUDAD\"].append(f\"CIUDAD_{i}\")\n",
    "lf_reg_ciu = pl.LazyFrame(dict_reg_ciu)\n",
    "lf_reg_ciu.head(2).collect()"
   ]
  },
  {
   "cell_type": "code",
   "execution_count": null,
   "metadata": {},
   "outputs": [],
   "source": [
    "# Join para añadir variable CIUDAD\n",
    "lf.join(\n",
    "    lf_reg_ciu,\n",
    "    how=\"inner\",\n",
    "    left_on=[\"COL_A\"],\n",
    "    right_on=[\"REGION\"],\n",
    ").head(2).collect()"
   ]
  },
  {
   "cell_type": "markdown",
   "metadata": {},
   "source": [
    "## Escritura"
   ]
  },
  {
   "cell_type": "code",
   "execution_count": null,
   "metadata": {},
   "outputs": [],
   "source": [
    "# Guardar parquet Particionado\n",
    "partition = pl.PartitionMaxSize(\n",
    "    PATH_DATA.joinpath(\"prueba2/part_{part}.parquet\"), max_size=1_000\n",
    ")  # 100_000_000 --> ~100 MB\n",
    "lf.sink_parquet(\n",
    "    partition,\n",
    "    mkdir=True,\n",
    ")"
   ]
  },
  {
   "cell_type": "code",
   "execution_count": null,
   "metadata": {},
   "outputs": [],
   "source": [
    "# Guardar parquet Sin Particionar\n",
    "lf.collect(engine=\"streaming\").write_parquet(PATH_DATA.joinpath(\"prueba2.parquet\"))"
   ]
  }
 ],
 "metadata": {
  "kernelspec": {
   "display_name": "venv",
   "language": "python",
   "name": "python3"
  },
  "language_info": {
   "codemirror_mode": {
    "name": "ipython",
    "version": 3
   },
   "file_extension": ".py",
   "mimetype": "text/x-python",
   "name": "python",
   "nbconvert_exporter": "python",
   "pygments_lexer": "ipython3",
   "version": "3.10.7"
  }
 },
 "nbformat": 4,
 "nbformat_minor": 2
}
