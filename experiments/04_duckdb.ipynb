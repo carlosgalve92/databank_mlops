{
 "cells": [
  {
   "cell_type": "markdown",
   "metadata": {},
   "source": [
    "# Duckdb"
   ]
  },
  {
   "cell_type": "markdown",
   "metadata": {},
   "source": [
    "Es un sistema de gestión de bases de datos relacionales de código abierto diseñado para consultas analíticas rápidas y eficientes. A menudo se describe como un \"SQLite para análisis de datos\", ya que es ligero y fácil de integrar, pero al mismo tiempo es muy potente en el procesamiento de grandes volúmenes de datos."
   ]
  },
  {
   "cell_type": "code",
   "execution_count": null,
   "metadata": {},
   "outputs": [],
   "source": [
    "import duckdb as db"
   ]
  },
  {
   "cell_type": "markdown",
   "metadata": {},
   "source": [
    "## Generar conexion"
   ]
  },
  {
   "cell_type": "code",
   "execution_count": null,
   "metadata": {},
   "outputs": [],
   "source": [
    "# Conectar a DuckDB\n",
    "# conn = db.connect(database=\":memory:\")  # Base en memoria\n",
    "conn = db.connect(database=\"../data/database.db\")  # Base en físico"
   ]
  },
  {
   "cell_type": "code",
   "execution_count": null,
   "metadata": {},
   "outputs": [],
   "source": [
    "# Crear schema de base de datos\n",
    "conn.sql(\"create schema if not exists DATMLOPS\")"
   ]
  },
  {
   "cell_type": "markdown",
   "metadata": {},
   "source": [
    "## Crear tabla "
   ]
  },
  {
   "cell_type": "code",
   "execution_count": null,
   "metadata": {},
   "outputs": [],
   "source": [
    "# Crear tabla leyendo ficheros parquet\n",
    "conn.sql(\n",
    "    \"\"\"\n",
    "    create or replace table DATMLOPS.PRUEBA as\n",
    "    select *\n",
    "    from read_parquet(\"../data/prueba2/*.parquet\")\n",
    "    \"\"\"\n",
    ")"
   ]
  },
  {
   "cell_type": "code",
   "execution_count": null,
   "metadata": {},
   "outputs": [],
   "source": [
    "# Crear la tabla REGION_X_CIUDAD\n",
    "conn.sql(\"\"\"\n",
    "    create or replace table DATMLOPS.REGION_X_CIUDAD (\n",
    "        REGION varchar,\n",
    "        CIUDAD varchar\n",
    "    )\n",
    "\"\"\")\n",
    "\n",
    "# Insertar varios registros en una sola sentencia\n",
    "conn.sql(\"\"\"\n",
    "    INSERT INTO DATMLOPS.REGION_X_CIUDAD VALUES\n",
    "    ('REGION_0', 'CIUDAD_0'),\n",
    "    ('REGION_1', 'CIUDAD_1'),\n",
    "    ('REGION_2', 'CIUDAD_2'),\n",
    "\"\"\")"
   ]
  },
  {
   "cell_type": "markdown",
   "metadata": {},
   "source": [
    "## Ver metadata y descriptivos"
   ]
  },
  {
   "cell_type": "code",
   "execution_count": null,
   "metadata": {},
   "outputs": [],
   "source": [
    "# Metadata\n",
    "# \"columns\", \"tables\", \"views\", \"schemata\", \"table_constraints\", \"key_column_usage\", \"constraint_column_usage\"\n",
    "conn.sql(\n",
    "    \"\"\"\n",
    "    select *\n",
    "    FROM information_schema.tables\n",
    "    \"\"\"\n",
    ").show()"
   ]
  },
  {
   "cell_type": "code",
   "execution_count": null,
   "metadata": {},
   "outputs": [],
   "source": [
    "# Tipos de variables\n",
    "conn.sql(\n",
    "    \"\"\"\n",
    "    describe DATMLOPS.PRUEBA\n",
    "    \"\"\"\n",
    ").df().head()"
   ]
  },
  {
   "cell_type": "code",
   "execution_count": null,
   "metadata": {},
   "outputs": [],
   "source": [
    "# Resumen con analisis descriptivo\n",
    "conn.sql(\n",
    "    \"\"\"\n",
    "    summarize DATMLOPS.PRUEBA\n",
    "    \"\"\"\n",
    ")"
   ]
  },
  {
   "cell_type": "markdown",
   "metadata": {},
   "source": [
    "## Slicing"
   ]
  },
  {
   "cell_type": "code",
   "execution_count": null,
   "metadata": {},
   "outputs": [],
   "source": [
    "# Seleccionar primeros 5 registros\n",
    "dbf = conn.sql(\n",
    "    \"\"\"\n",
    "    select *\n",
    "    from DATMLOPS.PRUEBA\n",
    "    limit 5 offset 2\n",
    "    \"\"\"\n",
    ")\n",
    "dbf"
   ]
  },
  {
   "cell_type": "markdown",
   "metadata": {},
   "source": [
    "## Join"
   ]
  },
  {
   "cell_type": "code",
   "execution_count": null,
   "metadata": {},
   "outputs": [],
   "source": [
    "# join\n",
    "dfb_vf = conn.sql(\n",
    "    \"\"\"\n",
    "    select *\n",
    "    from DATMLOPS.PRUEBA\n",
    "    left join DATMLOPS.REGION_X_CIUDAD\n",
    "    on COL_A = REGION\n",
    "    limit 5 offset 0\n",
    "    \"\"\"\n",
    ")\n",
    "dfb_vf.df()"
   ]
  },
  {
   "cell_type": "markdown",
   "metadata": {},
   "source": [
    "## Ordenar"
   ]
  },
  {
   "cell_type": "code",
   "execution_count": null,
   "metadata": {},
   "outputs": [],
   "source": [
    "# Ordendar\n",
    "dbf = conn.sql(\n",
    "    \"\"\"\n",
    "    select *\n",
    "    from DATMLOPS.PRUEBA\n",
    "    order by NRO_ID, DATE_FIELD\n",
    "    limit 5 offset 2\n",
    "    \"\"\"\n",
    ")\n",
    "dbf"
   ]
  },
  {
   "cell_type": "markdown",
   "metadata": {},
   "source": [
    "## Escritura"
   ]
  },
  {
   "cell_type": "code",
   "execution_count": null,
   "metadata": {},
   "outputs": [],
   "source": [
    "# Escribir a parquet\n",
    "conn.sql(\n",
    "    \"\"\"\n",
    "    COPY (SELECT * FROM DATMLOPS.PRUEBA) TO '../data/prueba3.parquet' (FORMAT parquet)\n",
    "    \"\"\"\n",
    ")"
   ]
  },
  {
   "cell_type": "code",
   "execution_count": null,
   "metadata": {},
   "outputs": [],
   "source": [
    "conn.close()"
   ]
  }
 ],
 "metadata": {
  "kernelspec": {
   "display_name": "venv",
   "language": "python",
   "name": "python3"
  },
  "language_info": {
   "codemirror_mode": {
    "name": "ipython",
    "version": 3
   },
   "file_extension": ".py",
   "mimetype": "text/x-python",
   "name": "python",
   "nbconvert_exporter": "python",
   "pygments_lexer": "ipython3",
   "version": "3.10.7"
  }
 },
 "nbformat": 4,
 "nbformat_minor": 2
}
