{
 "cells": [
  {
   "cell_type": "markdown",
   "metadata": {},
   "source": [
    "# SqlAlchemy"
   ]
  },
  {
   "cell_type": "markdown",
   "metadata": {},
   "source": [
    "SQLAlchemy es una biblioteca de Python que proporciona una interfaz flexible y eficiente para interactuar con bases de datos SQL. Es una de las herramientas más utilizadas en la industria para manejar bases de datos de manera programática. Principalmente existen dos usos:\n",
    "* SQLAlchemy Core: Usa SQL nativo y consultas directas con engine y connection.\n",
    "* SQLAlchemy ORM (Object-Relational Mapping): Usa clases y objetos Python para representar tablas y manejar datos de forma estructurada."
   ]
  },
  {
   "cell_type": "code",
   "execution_count": null,
   "metadata": {},
   "outputs": [],
   "source": [
    "from sqlalchemy import create_engine, Column, String\n",
    "from sqlalchemy.orm import declarative_base, sessionmaker\n",
    "import sqlalchemy\n",
    "import numpy as np\n",
    "import pandas as pd\n",
    "import polars as pl"
   ]
  },
  {
   "cell_type": "markdown",
   "metadata": {},
   "source": [
    "## ORM"
   ]
  },
  {
   "cell_type": "code",
   "execution_count": null,
   "metadata": {},
   "outputs": [],
   "source": [
    "# Conectar a DuckDB en memoria\n",
    "engine = create_engine(\"duckdb:///../data/database.db\")\n",
    "\n",
    "# Base para definir las tablas\n",
    "Base = declarative_base()\n",
    "\n",
    "\n",
    "# Definir la tabla como una clase en Python\n",
    "class RegionXCiudad(Base):\n",
    "    __tablename__ = \"REGION_X_CIUDAD\"\n",
    "    __table_args__ = {\"schema\": \"DATMLOPS\"}\n",
    "    REGION = Column(String, primary_key=True)\n",
    "    CIUDAD = Column(String)\n",
    "\n",
    "\n",
    "# Crear la tabla en la base de datos\n",
    "Base.metadata.create_all(engine)\n",
    "\n",
    "# Crear sesión para interactuar con la BD\n",
    "Session = sessionmaker(bind=engine)\n",
    "session = Session()"
   ]
  },
  {
   "cell_type": "code",
   "execution_count": null,
   "metadata": {},
   "outputs": [],
   "source": [
    "results = session.query(RegionXCiudad)\n",
    "for result in results.yield_per(2):\n",
    "    print(vars(result))"
   ]
  },
  {
   "cell_type": "code",
   "execution_count": null,
   "metadata": {},
   "outputs": [],
   "source": [
    "df = pd.read_sql(session.query(RegionXCiudad).statement, session.bind, chunksize=2)\n",
    "ls_lf = []\n",
    "for df_iter in df:\n",
    "    ls_lf.append(pl.from_pandas(df_iter).lazy())\n",
    "\n",
    "lf = pl.concat(ls_lf, how=\"vertical\")\n",
    "lf.collect()"
   ]
  },
  {
   "cell_type": "code",
   "execution_count": null,
   "metadata": {},
   "outputs": [],
   "source": [
    "df = lf.collect()\n",
    "df = df.to_pandas()"
   ]
  },
  {
   "cell_type": "code",
   "execution_count": null,
   "metadata": {},
   "outputs": [],
   "source": [
    "dtypes_df = dict(df.dtypes)\n",
    "for k, v in dtypes_df.items():\n",
    "    if v == np.int64:\n",
    "        dtypes_df[k] = sqlalchemy.types.BigInteger()\n",
    "    elif v == np.float64:\n",
    "        dtypes_df[k] = sqlalchemy.types.Float()\n",
    "    elif isinstance(v, object):\n",
    "        dtypes_df[k] = sqlalchemy.types.String(df[k].str.len().max() + 10)\n",
    "    else:\n",
    "        raise\n",
    "\n",
    "df.to_sql(\n",
    "    name=r\"REGION_X_CIUDAD_AUX\".upper(),\n",
    "    schema=\"DATMLOPS\",\n",
    "    con=session.bind,\n",
    "    index=False,\n",
    "    dtype=dtypes_df,\n",
    "    chunksize=1000,\n",
    "    # if_exists=\"append\",\n",
    "    if_exists=\"replace\",\n",
    ")"
   ]
  },
  {
   "cell_type": "code",
   "execution_count": null,
   "metadata": {},
   "outputs": [],
   "source": [
    "df = pd.read_sql(\n",
    "    \"\"\"select * from DATMLOPS.REGION_X_CIUDAD_AUX\"\"\", session.bind, chunksize=2\n",
    ")\n",
    "ls_lf = []\n",
    "for df_iter in df:\n",
    "    ls_lf.append(pl.from_pandas(df_iter).lazy())\n",
    "\n",
    "lf = pl.concat(ls_lf, how=\"vertical\")\n",
    "lf.collect()"
   ]
  },
  {
   "cell_type": "code",
   "execution_count": null,
   "metadata": {},
   "outputs": [],
   "source": [
    "session.close()\n",
    "engine.dispose()"
   ]
  }
 ],
 "metadata": {
  "kernelspec": {
   "display_name": "venv",
   "language": "python",
   "name": "python3"
  },
  "language_info": {
   "codemirror_mode": {
    "name": "ipython",
    "version": 3
   },
   "file_extension": ".py",
   "mimetype": "text/x-python",
   "name": "python",
   "nbconvert_exporter": "python",
   "pygments_lexer": "ipython3",
   "version": "3.10.7"
  }
 },
 "nbformat": 4,
 "nbformat_minor": 2
}
