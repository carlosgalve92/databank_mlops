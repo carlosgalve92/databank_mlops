{
 "cells": [
  {
   "cell_type": "markdown",
   "metadata": {},
   "source": [
    "# Matplotlib & Seaborn"
   ]
  },
  {
   "cell_type": "markdown",
   "metadata": {},
   "source": [
    "**Matplotlib** es la biblioteca de visualización más básica y flexible en Python.\n",
    "\n",
    "**Seaborn** es una biblioteca de alto nivel para crear gráficos estadísticos atractivos y fáciles de entender, que permite visualizar distribuciones, relaciones y patrones en datos con muy poco código."
   ]
  },
  {
   "cell_type": "code",
   "execution_count": null,
   "metadata": {},
   "outputs": [],
   "source": [
    "import numpy as np\n",
    "from optbinning import OptimalBinning\n",
    "import pandas as pd\n",
    "import matplotlib.pyplot as plt\n",
    "from matplotlib.colors import ListedColormap, LinearSegmentedColormap\n",
    "import seaborn as sns\n",
    "\n",
    "# import warnings\n",
    "# warnings.filterwarnings(\"ignore\", category=FutureWarning)"
   ]
  },
  {
   "cell_type": "markdown",
   "metadata": {},
   "source": [
    "## Paleta de colores"
   ]
  },
  {
   "cell_type": "code",
   "execution_count": null,
   "metadata": {},
   "outputs": [],
   "source": [
    "# Discreta\n",
    "custom_color_discrete = ListedColormap([\"#1934e3\", \"#f0aa29\", \"#f02c29\"])\n",
    "custom_color_discrete"
   ]
  },
  {
   "cell_type": "code",
   "execution_count": null,
   "metadata": {},
   "outputs": [],
   "source": [
    "# Continuous\n",
    "custom_color_continuous = LinearSegmentedColormap.from_list(\n",
    "    \"blue_orange_red\", [(0, \"#1934e3\"), (0.5, \"#f0aa29\"), (1.0, \"#f02c29\")]\n",
    ")\n",
    "custom_color_continuous"
   ]
  },
  {
   "cell_type": "markdown",
   "metadata": {},
   "source": [
    "## Theme"
   ]
  },
  {
   "cell_type": "code",
   "execution_count": null,
   "metadata": {},
   "outputs": [],
   "source": [
    "# Se customizan algunos parámetros\n",
    "custom_rc = {\n",
    "    \"axes.titlesize\": 18,\n",
    "    \"axes.spines.bottom\": True,\n",
    "    \"axes.spines.left\": False,\n",
    "    \"axes.spines.right\": False,\n",
    "    \"axes.spines.top\": False,\n",
    "    \"xtick.bottom\": False,\n",
    "    \"ytick.left\": False,\n",
    "    \"ytick.right\": False,\n",
    "    \"xtick.labelsize\": 14,\n",
    "    \"ytick.labelsize\": 14,\n",
    "}\n",
    "\n",
    "# Se establece el theme\n",
    "sns.set_theme(\n",
    "    context=\"paper\",\n",
    "    style=\"white\",\n",
    "    palette=custom_color_discrete.colors,\n",
    "    # palette=[custom_color_continuous(i) for i in np.linspace(0., 1., nu_colors)],\n",
    "    rc=custom_rc,\n",
    ")"
   ]
  },
  {
   "cell_type": "code",
   "execution_count": null,
   "metadata": {},
   "outputs": [],
   "source": [
    "# Para observar parametros personalizables\n",
    "print(plt.rcParams)"
   ]
  },
  {
   "cell_type": "markdown",
   "metadata": {},
   "source": [
    "## Pintar graficos"
   ]
  },
  {
   "cell_type": "code",
   "execution_count": null,
   "metadata": {},
   "outputs": [],
   "source": [
    "# Simulamos datos\n",
    "N = 1000\n",
    "np.random.seed(2025)\n",
    "x1 = np.random.normal(2, 3, (N, 1))\n",
    "x2 = np.random.normal(-3, 4, (N, 1))\n",
    "noi1 = np.random.normal(0, 1, (N, 1))\n",
    "y = 1 / (1 + np.exp(-(1 + 5 * x1 - 3 * x2 + noi1)))\n",
    "y = np.where(y > 0.5, 1, 0).astype(np.int64)\n",
    "\n",
    "df = pd.DataFrame(np.hstack([x1, x2, y]), columns=[\"X1\", \"X2\", \"Y\"])\n",
    "df.head()"
   ]
  },
  {
   "cell_type": "code",
   "execution_count": null,
   "metadata": {},
   "outputs": [],
   "source": [
    "dict_tends = {\"X1\": \"ascending\", \"X2\": \"descending\"}"
   ]
  },
  {
   "cell_type": "code",
   "execution_count": null,
   "metadata": {},
   "outputs": [],
   "source": [
    "for c in df.filter(regex=r\".*\\d+$\").columns:\n",
    "    print(c)\n",
    "\n",
    "    opt_bin = OptimalBinning(\n",
    "        name=c,\n",
    "        dtype=\"numerical\",\n",
    "        solver=\"cp\",\n",
    "        monotonic_trend=dict_tends[c],\n",
    "        min_prebin_size=0.05,\n",
    "        divergence=\"iv\",\n",
    "        min_n_bins=3,\n",
    "        max_n_bins=5,\n",
    "        min_bin_size=0.05,\n",
    "    )\n",
    "\n",
    "    opt_bin.fit(df[c], df[\"Y\"])\n",
    "    print(opt_bin.splits)\n",
    "    # print(opt_bin.binning_table.build())\n",
    "\n",
    "    df[rf\"{c}_CAT\"] = None\n",
    "    df.loc[df.loc[:, c].isnull(), rf\"{c}_CAT\"] = \"00.MISSING\"\n",
    "    for i, limite in enumerate(opt_bin.splits):\n",
    "        df.loc[\n",
    "            ((df.loc[:, rf\"{c}_CAT\"].isna()) & (df.loc[:, c] < limite)), rf\"{c}_CAT\"\n",
    "        ] = rf\"{i + 1: 02d}.<={np.round(limite, 4)}\"\n",
    "    else:\n",
    "        df.loc[\n",
    "            ((df.loc[:, rf\"{c}_CAT\"].isnull()) & (df.loc[:, c] > limite)), rf\"{c}_CAT\"\n",
    "        ] = rf\"{i + 1: 02d}.>{np.round(limite, 4)}\""
   ]
  },
  {
   "cell_type": "code",
   "execution_count": null,
   "metadata": {},
   "outputs": [],
   "source": [
    "target = \"Y\"\n",
    "fig, axs = plt.subplots(2, 1, figsize=(10, 5), constrained_layout=True)\n",
    "\n",
    "for i, c in enumerate(df.filter(regex=\".*_CAT$\").columns):\n",
    "    print(c)\n",
    "\n",
    "    axs[i].set_title(rf\"Bivariado {c}\")\n",
    "\n",
    "    df_plot = df.groupby([c], as_index=False).agg(\n",
    "        COUNT=(c, \"count\"), RD=(target, \"mean\")\n",
    "    )\n",
    "\n",
    "    barplot = sns.barplot(\n",
    "        x=df_plot[c],\n",
    "        y=df_plot[\"COUNT\"],\n",
    "        ax=axs[i].twinx(),\n",
    "        color=\"lightgreen\",\n",
    "    )\n",
    "    for container in barplot.containers:\n",
    "        # Añadir etiquetas sobre las barras\n",
    "        barplot.bar_label(container, padding=3)\n",
    "    barplot.tick_params(axis=\"y\", which=\"both\", right=False, labelright=True)\n",
    "\n",
    "    scatter = sns.scatterplot(\n",
    "        x=df_plot[c],\n",
    "        y=df_plot[\"RD\"],\n",
    "        ax=axs[i],\n",
    "        color=\"black\",\n",
    "    )\n",
    "    scatter.set_zorder(10)\n",
    "    scatter.set_xlabel(\"\")\n",
    "    scatter.patch.set_visible(False)\n",
    "    scatter.tick_params(axis=\"y\", which=\"both\", left=False, labelleft=True)\n",
    "\n",
    "\n",
    "plt.show()\n",
    "plt.close()"
   ]
  },
  {
   "cell_type": "code",
   "execution_count": null,
   "metadata": {},
   "outputs": [],
   "source": []
  }
 ],
 "metadata": {
  "kernelspec": {
   "display_name": "venv",
   "language": "python",
   "name": "python3"
  },
  "language_info": {
   "codemirror_mode": {
    "name": "ipython",
    "version": 3
   },
   "file_extension": ".py",
   "mimetype": "text/x-python",
   "name": "python",
   "nbconvert_exporter": "python",
   "pygments_lexer": "ipython3",
   "version": "3.10.7"
  }
 },
 "nbformat": 4,
 "nbformat_minor": 2
}
