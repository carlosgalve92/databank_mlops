{
 "cells": [
  {
   "cell_type": "markdown",
   "id": "effe5706",
   "metadata": {},
   "source": [
    "# Scikit-learn"
   ]
  },
  {
   "cell_type": "markdown",
   "id": "621c6170",
   "metadata": {},
   "source": [
    "Scikit-learn es una biblioteca esencial para el aprendizaje automático en Python construida sobre numpy. Ofrece una interfaz simple y eficiente para realizar tareas como preprocesamiento de datos, clasificación, regresión, agrupamiento, y evaluación de modelos. Es ampliamente utilizada tanto en investigación como en producción, y se integra bien con otras herramientas de Python."
   ]
  },
  {
   "cell_type": "code",
   "execution_count": null,
   "id": "e01ba50d",
   "metadata": {},
   "outputs": [],
   "source": [
    "from sklearn.preprocessing import LabelEncoder\n",
    "from sklearn.pipeline import Pipeline\n",
    "from sklearn.compose import ColumnTransformer\n",
    "from sklearn.model_selection import train_test_split\n",
    "from sklearn.linear_model import LogisticRegression\n",
    "from sklearn.metrics import roc_auc_score\n",
    "import pathlib\n",
    "import kaggle\n",
    "import numpy as np\n",
    "import pandas as pd\n",
    "import joblib\n",
    "\n",
    "from databank_mlops.preprocessors.field_number import (\n",
    "    mb_simple_imputer,\n",
    "    mb_standard_scaler,\n",
    ")\n",
    "from databank_mlops.preprocessors.field_text_to_number import mb_clean_text_number\n",
    "from databank_mlops.preprocessors.field_text import mb_clean_text, mb_woe_encoder"
   ]
  },
  {
   "cell_type": "markdown",
   "id": "bdc58a81",
   "metadata": {},
   "source": [
    "## Descarga del dataframe"
   ]
  },
  {
   "cell_type": "code",
   "execution_count": null,
   "id": "b7c12300",
   "metadata": {},
   "outputs": [],
   "source": [
    "URL_DATASET = r\"parisrohan/credit-score-classification\"\n",
    "PATH_DATA = pathlib.Path(\"../data/\")"
   ]
  },
  {
   "cell_type": "code",
   "execution_count": null,
   "id": "a010a764",
   "metadata": {},
   "outputs": [],
   "source": [
    "kaggle.api.dataset_download_files(URL_DATASET, path=PATH_DATA, unzip=True)\n",
    "filenames = [f.name for f in kaggle.api.dataset_list_files(URL_DATASET).files]\n",
    "print(filenames)"
   ]
  },
  {
   "cell_type": "markdown",
   "id": "f0011d15",
   "metadata": {},
   "source": [
    "## Carga data"
   ]
  },
  {
   "cell_type": "code",
   "execution_count": null,
   "id": "eeb9efdc",
   "metadata": {},
   "outputs": [],
   "source": [
    "data = pd.read_csv(PATH_DATA.joinpath(filenames[1]))\n",
    "data.columns = data.columns.str.strip().str.upper()\n",
    "data.head(2)"
   ]
  },
  {
   "cell_type": "code",
   "execution_count": null,
   "id": "c80c2083",
   "metadata": {},
   "outputs": [],
   "source": [
    "for c in [\n",
    "    \"OCCUPATION\",\n",
    "    \"AGE\",\n",
    "    \"ANNUAL_INCOME\",\n",
    "    \"NUM_OF_LOAN\",\n",
    "    \"NUM_OF_DELAYED_PAYMENT\",\n",
    "    \"CHANGED_CREDIT_LIMIT\",\n",
    "    \"OUTSTANDING_DEBT\",\n",
    "    \"AMOUNT_INVESTED_MONTHLY\",\n",
    "    \"MONTHLY_BALANCE\",\n",
    "]:\n",
    "    print(data.loc[:, c].unique())"
   ]
  },
  {
   "cell_type": "code",
   "execution_count": null,
   "id": "93e09454",
   "metadata": {},
   "outputs": [],
   "source": [
    "data.loc[\n",
    "    :,\n",
    "    [\n",
    "        \"MONTHLY_INHAND_SALARY\",\n",
    "        \"NUM_BANK_ACCOUNTS\",\n",
    "        \"NUM_CREDIT_CARD\",\n",
    "        \"INTEREST_RATE\",\n",
    "        \"DELAY_FROM_DUE_DATE\",\n",
    "        \"NUM_CREDIT_INQUIRIES\",\n",
    "        \"CREDIT_UTILIZATION_RATIO\",\n",
    "        \"TOTAL_EMI_PER_MONTH\",\n",
    "    ],\n",
    "].describe()"
   ]
  },
  {
   "cell_type": "code",
   "execution_count": null,
   "id": "c8fcbf13",
   "metadata": {},
   "outputs": [],
   "source": [
    "data.loc[:, [\"CREDIT_SCORE\"]].value_counts(dropna=False, normalize=True)"
   ]
  },
  {
   "cell_type": "code",
   "execution_count": null,
   "id": "44f14b7f",
   "metadata": {},
   "outputs": [],
   "source": [
    "data = data.loc[\n",
    "    :,\n",
    "    [\n",
    "        \"OCCUPATION\",\n",
    "        \"AGE\",\n",
    "        \"ANNUAL_INCOME\",\n",
    "        \"NUM_OF_LOAN\",\n",
    "        \"NUM_OF_DELAYED_PAYMENT\",\n",
    "        \"CHANGED_CREDIT_LIMIT\",\n",
    "        \"OUTSTANDING_DEBT\",\n",
    "        \"AMOUNT_INVESTED_MONTHLY\",\n",
    "        \"MONTHLY_BALANCE\",\n",
    "        \"MONTHLY_INHAND_SALARY\",\n",
    "        \"NUM_BANK_ACCOUNTS\",\n",
    "        \"NUM_CREDIT_CARD\",\n",
    "        \"INTEREST_RATE\",\n",
    "        \"DELAY_FROM_DUE_DATE\",\n",
    "        \"NUM_CREDIT_INQUIRIES\",\n",
    "        \"CREDIT_UTILIZATION_RATIO\",\n",
    "        \"TOTAL_EMI_PER_MONTH\",\n",
    "        \"CREDIT_SCORE\",\n",
    "    ],\n",
    "]"
   ]
  },
  {
   "cell_type": "markdown",
   "id": "da6e9ded",
   "metadata": {},
   "source": [
    "## Preparación train y test"
   ]
  },
  {
   "cell_type": "code",
   "execution_count": null,
   "id": "7737b9bf",
   "metadata": {},
   "outputs": [],
   "source": [
    "SEED = 2025\n",
    "np.random.seed(SEED)"
   ]
  },
  {
   "cell_type": "code",
   "execution_count": null,
   "id": "740b2629",
   "metadata": {},
   "outputs": [],
   "source": [
    "encoder_target = LabelEncoder()\n",
    "y = encoder_target.fit_transform(data[\"CREDIT_SCORE\"])\n",
    "print(encoder_target.inverse_transform(y))\n",
    "print(encoder_target.classes_)\n",
    "y = pd.DataFrame(np.where((y == 1), 1, 0), columns=[\"CREDIT_SCORE\"])\n",
    "\n",
    "\n",
    "x_train, x_test, y_train, y_test = train_test_split(\n",
    "    data.drop(columns=[\"CREDIT_SCORE\"]),\n",
    "    y.values.ravel(),\n",
    "    test_size=0.2,\n",
    "    random_state=SEED,\n",
    "    stratify=y.values.ravel(),\n",
    "    shuffle=True,\n",
    ")"
   ]
  },
  {
   "cell_type": "markdown",
   "id": "fd6dfa61",
   "metadata": {},
   "source": [
    "## Generación del Pipeline"
   ]
  },
  {
   "cell_type": "code",
   "execution_count": null,
   "id": "0920ccdc",
   "metadata": {},
   "outputs": [],
   "source": [
    "pl_cat = Pipeline(\n",
    "    [\n",
    "        (\"clean\", mb_clean_text(\"MISSING\")),\n",
    "        (\"woe\", mb_woe_encoder()),\n",
    "    ]\n",
    ")\n",
    "\n",
    "pl_cat_num = Pipeline(\n",
    "    [\n",
    "        (\"clean\", mb_clean_text_number()),\n",
    "        (\"mb_simple_imputer\", mb_simple_imputer(strategy=\"median\")),\n",
    "        (\"scaler\", mb_standard_scaler()),\n",
    "    ]\n",
    ")\n",
    "\n",
    "pl_num = Pipeline(\n",
    "    [\n",
    "        (\"mb_simple_imputer\", mb_simple_imputer(strategy=\"median\")),\n",
    "        (\"scaler\", mb_standard_scaler()),\n",
    "    ]\n",
    ")\n",
    "\n",
    "pl_preprocess = ColumnTransformer(\n",
    "    [\n",
    "        (\"prep_cat\", pl_cat, [\"OCCUPATION\"]),\n",
    "        (\n",
    "            \"prep_cat_num\",\n",
    "            pl_cat_num,\n",
    "            [\n",
    "                \"AGE\",\n",
    "                \"ANNUAL_INCOME\",\n",
    "                \"NUM_OF_LOAN\",\n",
    "                \"NUM_OF_DELAYED_PAYMENT\",\n",
    "                \"CHANGED_CREDIT_LIMIT\",\n",
    "                \"OUTSTANDING_DEBT\",\n",
    "                \"AMOUNT_INVESTED_MONTHLY\",\n",
    "                \"MONTHLY_BALANCE\",\n",
    "            ],\n",
    "        ),\n",
    "        (\n",
    "            \"prep_num\",\n",
    "            pl_num,\n",
    "            [\n",
    "                \"MONTHLY_INHAND_SALARY\",\n",
    "                \"NUM_BANK_ACCOUNTS\",\n",
    "                \"NUM_CREDIT_CARD\",\n",
    "                \"INTEREST_RATE\",\n",
    "                \"DELAY_FROM_DUE_DATE\",\n",
    "                \"NUM_CREDIT_INQUIRIES\",\n",
    "                \"CREDIT_UTILIZATION_RATIO\",\n",
    "                \"TOTAL_EMI_PER_MONTH\",\n",
    "            ],\n",
    "        ),\n",
    "    ],\n",
    "    force_int_remainder_cols=False,\n",
    ")"
   ]
  },
  {
   "cell_type": "code",
   "execution_count": null,
   "id": "baadada4",
   "metadata": {},
   "outputs": [],
   "source": [
    "pl_preprocess"
   ]
  },
  {
   "cell_type": "code",
   "execution_count": null,
   "id": "a90cfd6a",
   "metadata": {},
   "outputs": [],
   "source": [
    "data_clean = pl_preprocess.fit_transform(x_train, y_train)\n",
    "data_clean"
   ]
  },
  {
   "cell_type": "code",
   "execution_count": null,
   "id": "d70bbace",
   "metadata": {},
   "outputs": [],
   "source": [
    "pl_preprocess.get_feature_names_out()"
   ]
  },
  {
   "cell_type": "code",
   "execution_count": null,
   "id": "f7c978bd",
   "metadata": {},
   "outputs": [],
   "source": [
    "pl_preprocess.transformers_[0][1].named_steps[\"woe\"].dict_woe"
   ]
  },
  {
   "cell_type": "markdown",
   "id": "77dc95c2",
   "metadata": {},
   "source": [
    "## Pipeline con preprocesamiento y modelo"
   ]
  },
  {
   "cell_type": "code",
   "execution_count": null,
   "id": "361aa76d",
   "metadata": {},
   "outputs": [],
   "source": [
    "pipeline_model = Pipeline(\n",
    "    [(\"pl_prep\", pl_preprocess), (\"lineal_model\", LogisticRegression())]\n",
    ")"
   ]
  },
  {
   "cell_type": "code",
   "execution_count": null,
   "id": "43c59e82",
   "metadata": {},
   "outputs": [],
   "source": [
    "pipeline_model.fit(x_train, y_train)"
   ]
  },
  {
   "cell_type": "code",
   "execution_count": null,
   "id": "c366dc89",
   "metadata": {},
   "outputs": [],
   "source": [
    "joblib.dump(pipeline_model, r\"../models/logistic_regresion_v1.joblib\")"
   ]
  },
  {
   "cell_type": "code",
   "execution_count": null,
   "id": "c5de81f0",
   "metadata": {},
   "outputs": [],
   "source": [
    "pipeline_model = joblib.load(r\"../models/logistic_regresion_v1.joblib\")"
   ]
  },
  {
   "cell_type": "code",
   "execution_count": null,
   "id": "8e3dfaf4",
   "metadata": {},
   "outputs": [],
   "source": [
    "x_train.columns"
   ]
  },
  {
   "cell_type": "markdown",
   "id": "7695feb1",
   "metadata": {},
   "source": [
    "## Resultados"
   ]
  },
  {
   "cell_type": "code",
   "execution_count": null,
   "id": "1a68e984",
   "metadata": {},
   "outputs": [],
   "source": [
    "print(\n",
    "    f\"Gini con Regresion Lineal en Train: {2 * roc_auc_score(y_train, pipeline_model.predict_proba(x_train)[:, 1]) - 1: .2%}\"\n",
    ")\n",
    "print(\n",
    "    f\"Gini con Regresion Lineal en Test: {2 * roc_auc_score(y_test, pipeline_model.predict_proba(x_test)[:, 1]) - 1: .2%}\"\n",
    ")"
   ]
  }
 ],
 "metadata": {
  "kernelspec": {
   "display_name": "venv",
   "language": "python",
   "name": "python3"
  },
  "language_info": {
   "codemirror_mode": {
    "name": "ipython",
    "version": 3
   },
   "file_extension": ".py",
   "mimetype": "text/x-python",
   "name": "python",
   "nbconvert_exporter": "python",
   "pygments_lexer": "ipython3",
   "version": "3.10.7"
  }
 },
 "nbformat": 4,
 "nbformat_minor": 5
}
